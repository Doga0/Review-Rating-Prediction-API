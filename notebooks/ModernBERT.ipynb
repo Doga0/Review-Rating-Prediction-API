{
  "cells": [
    {
      "cell_type": "markdown",
      "metadata": {
        "id": "tI_yYy6ce1IA"
      },
      "source": [
        "# Table of Contents\n",
        "- Initializations\n",
        "- EDA - Feature Engineering\n",
        "    - Check for missing values\n",
        "    - Check for duplicate values\n",
        "    - Text Preprocessing for Review and Summary Fields\n",
        "    - Tokenization and Token Count Calculation\n",
        "    - Remove Long Reviews\n",
        "    - Visualizing Rating Distribution\n",
        "    - Visualizing Token Count Distribution\n",
        "    - Common Word Analysis Based on Rating\n",
        "    - Parsing and Calculating Helpfulness Ratio\n",
        "    - Visualizing Binned Distributions of Helpfulness Metrics\n",
        "    - Correlation Between 'Helpfulness Ratio' and 'Rating'\n",
        "    - Boxplot of Ratings by Helpfulness Ratio Bins\n",
        "    - Combining 'summary' and 'reviewText' Columns\n",
        "- Model Development\n",
        "    - Calculating Laplace-Smoothing for Helpfulness Ratio\n",
        "    - Custom Dataset Class for BERT Model\n",
        "    - Load Pretrained BERT Model and Tokenizer\n",
        "    - Freezing and Unfreezing Model Parameters\n",
        "    - Creating DataLoaders\n",
        "    - Defining the BERT Regressor Model\n",
        "    - Model Setup and Training Configuration\n",
        "    - Training and Evaluation Loop\n",
        "- Model Evaluation\n",
        "    - Plotting Training Results\n",
        "    - Save Model\n",
        "    - Inference and Evaluation Function\n",
        "    - Model Prediction"
      ]
    },
    {
      "cell_type": "markdown",
      "metadata": {
        "id": "PQ0U61VGbri-"
      },
      "source": [
        "# Initializations"
      ]
    },
    {
      "cell_type": "code",
      "execution_count": null,
      "metadata": {
        "id": "ATEycIW7J0Yb"
      },
      "outputs": [],
      "source": [
        "import torch\n",
        "from torch.utils.data import DataLoader, Dataset\n",
        "import torch.nn as nn\n",
        "\n",
        "import transformers\n",
        "from transformers import (\n",
        "    BertTokenizer,\n",
        "    AutoTokenizer,\n",
        "    AutoModel,\n",
        "    ModernBertModel\n",
        ")\n",
        "from transformers import get_linear_schedule_with_warmup\n",
        "\n",
        "from tqdm import tqdm\n",
        "\n",
        "from nltk.corpus import stopwords\n",
        "from nltk.tokenize import word_tokenize\n",
        "import nltk\n",
        "\n",
        "import sklearn\n",
        "from sklearn.model_selection import train_test_split\n",
        "from sklearn.metrics import mean_absolute_error, mean_squared_error, r2_score\n",
        "from sklearn.preprocessing import MinMaxScaler\n",
        "from sklearn.utils.class_weight import compute_class_weight\n",
        "\n",
        "import matplotlib.pyplot as plt\n",
        "import seaborn as sns\n",
        "import numpy as np\n",
        "import pandas as pd\n",
        "\n",
        "import json\n",
        "import ast\n",
        "from collections import Counter\n",
        "import string\n",
        "import re"
      ]
    },
    {
      "cell_type": "code",
      "execution_count": null,
      "metadata": {
        "colab": {
          "base_uri": "https://localhost:8080/",
          "height": 423
        },
        "id": "faPBsj3DKFPq",
        "outputId": "bec09375-2186-485a-a835-71adc9b20a21"
      },
      "outputs": [],
      "source": [
        "df = pd.read_csv(\"/content/drive/MyDrive/BERT_rating_prediction/book_rating_40k.csv\")\n",
        "df"
      ]
    },
    {
      "cell_type": "markdown",
      "metadata": {
        "id": "VDCHY2vzfSwr"
      },
      "source": [
        "# EDA - Feature Engineering"
      ]
    },
    {
      "cell_type": "markdown",
      "metadata": {
        "id": "undnI2cSb0pZ"
      },
      "source": [
        "### Check for missing values"
      ]
    },
    {
      "cell_type": "code",
      "execution_count": null,
      "metadata": {
        "colab": {
          "base_uri": "https://localhost:8080/",
          "height": 241
        },
        "id": "7i8a9MPSQbeI",
        "outputId": "281a2975-d0e0-4012-fc07-56ddeac27581"
      },
      "outputs": [],
      "source": [
        "df.isnull().sum()"
      ]
    },
    {
      "cell_type": "markdown",
      "metadata": {
        "id": "7857pSwJb3Aq"
      },
      "source": [
        "### Check for duplicate values"
      ]
    },
    {
      "cell_type": "code",
      "execution_count": null,
      "metadata": {
        "colab": {
          "base_uri": "https://localhost:8080/"
        },
        "id": "a1NH2NjNsaDO",
        "outputId": "81ce5ad5-36a3-417a-e785-1a12d9d43179"
      },
      "outputs": [],
      "source": [
        "df.duplicated().sum()"
      ]
    },
    {
      "cell_type": "code",
      "execution_count": null,
      "metadata": {
        "id": "uOsjlA9sF6Ln"
      },
      "outputs": [],
      "source": [
        "df.drop(\"reviewTime\", axis=1, inplace=True)\n",
        "df.dropna(inplace=True)\n",
        "\n",
        "df.drop_duplicates(inplace=True)"
      ]
    },
    {
      "cell_type": "markdown",
      "metadata": {
        "id": "5IdoIg9EcAEq"
      },
      "source": [
        "### Text Preprocessing for Review and Summary Fields"
      ]
    },
    {
      "cell_type": "code",
      "execution_count": null,
      "metadata": {
        "colab": {
          "base_uri": "https://localhost:8080/"
        },
        "id": "3rXps3DGs4JI",
        "outputId": "12b7da3a-0532-4714-efcf-ad0d85804de7"
      },
      "outputs": [],
      "source": [
        "nltk.download('stopwords')\n",
        "stop_words = set(stopwords.words('english'))\n",
        "\n",
        "def text_preprocessing(text):\n",
        "    text = text.strip()\n",
        "    text = re.sub(r'https?://www.', '', text)\n",
        "    text = re.sub('\\[.*?\\]', '', text)\n",
        "    text = re.sub(\"\\\\W\",\" \",text)\n",
        "    text = re.sub('https?://\\S+|www\\.\\S+', '', text)\n",
        "    text = re.sub('<.*?>+', '', text)\n",
        "    text = re.sub('\\n', '', text)\n",
        "    text = re.sub('\\w*\\d\\w*', '', text)\n",
        "    text = re.sub(r'(\\d)\\s+(\\d)', r'\\1\\2', text)\n",
        "    email_regex = re.compile(r'\\b[\\w\\.-]+@[\\w\\.-]+\\.\\w+\\b')\n",
        "    text = email_regex.sub('', text)\n",
        "    text = text.replace('ï»¿', '')\n",
        "    return text\n",
        "\n",
        "df['reviewText'] = df['reviewText'].apply(text_preprocessing)\n",
        "df['summary'] = df['summary'].apply(text_preprocessing)"
      ]
    },
    {
      "cell_type": "code",
      "execution_count": null,
      "metadata": {
        "colab": {
          "base_uri": "https://localhost:8080/"
        },
        "id": "Cdb6Vspk4RxA",
        "outputId": "e6d02313-ee2c-4633-b61d-4656ffb0235a"
      },
      "outputs": [],
      "source": [
        "print(df.isnull().sum())\n",
        "df.dropna(inplace=True)"
      ]
    },
    {
      "cell_type": "markdown",
      "metadata": {
        "id": "7QgWbquocHRW"
      },
      "source": [
        "### Tokenization and Token Count Calculation"
      ]
    },
    {
      "cell_type": "code",
      "execution_count": null,
      "metadata": {
        "colab": {
          "base_uri": "https://localhost:8080/",
          "height": 237,
          "referenced_widgets": [
            "ce8380704b624e008510e30686399cbc",
            "06d4d9fd372b4d8e91dcbe21f5794faf",
            "4055b5bab2fa4fedb2de6144eba6fc6c",
            "84665a718ed641799a857fef96603261",
            "05222f0255aa40509c03d68d9d6ee320",
            "1ecf7b963b8740d982fcd96d52bcba51",
            "9e0f340e63584186bc7a9d22f1b23fc5",
            "a0b6d43668aa46eaaf71a33b473797e7",
            "4d69f3c5b261409e87fee53eae40a90a",
            "49a8032436024cbeb94047f4d59f3422",
            "cebd49978aca4bd1b1f099c39ac29873",
            "135074fdd30b4cb3b136cf4b5d2b5a34",
            "c4f11b921ac74709b40fa5b88b937bcd",
            "fb5d037f97854ce29b690874669bd64b",
            "589081ca05c741dda7db6ea5346a516b",
            "8fa43e1c63784d6388be652d00cc4ec5",
            "80ec37cb58334333ab3542a627270113",
            "c0751dce23bd407abba66ba2a7d9856a",
            "a82582aac3bd4ef4ad4edd94ad3d88b0",
            "ed28bcc3b99e4602be08fa974ac367c2",
            "644cd17d136345a3afce04f00c1c1769",
            "70131d72946647ef8cce5d898fcd449a",
            "9a2d728d2362483e897850f327402858",
            "94cad8b51f764cb2a20064ec06f7c0dc",
            "066acf1fea7d41b9bbec11f71899ebac",
            "7b2c3f75dd4b43198d5d1819206fa4dc",
            "9898baa347df4856a2a1563420c70eb7",
            "024fca323d1f47f982cd91d6bf10d561",
            "a5fe653c493b45aab15c3e476945522d",
            "a3ec089cd6bb47c1804ae25f8451758c",
            "1b3d7e4b28f648f191f65073d012c7d1",
            "85a11380b76f42529eed42b868ce3532",
            "f54e9cef9cf8465e80201163a6599a8a"
          ]
        },
        "id": "O-Uqb1Krc4mR",
        "outputId": "971b8bdd-6a56-4f31-ba61-95a4be5825bc"
      },
      "outputs": [],
      "source": [
        "from transformers import BertTokenizer\n",
        "\n",
        "tokenizer = AutoTokenizer.from_pretrained(\"answerdotai/ModernBERT-base\")\n",
        "\n",
        "# Tokenize and store token lists\n",
        "df['tokens'] = df['reviewText'].apply(lambda x: tokenizer.tokenize(str(x)))\n",
        "\n",
        "# Compute token count for each review\n",
        "df['review_token_count'] = df['tokens'].apply(len)\n"
      ]
    },
    {
      "cell_type": "code",
      "execution_count": null,
      "metadata": {
        "colab": {
          "base_uri": "https://localhost:8080/",
          "height": 335
        },
        "id": "-2h9b-fjUZ7f",
        "outputId": "acd0962f-317a-4d88-98e1-a2959ceb1ef7"
      },
      "outputs": [],
      "source": [
        "df['review_token_count'].describe()"
      ]
    },
    {
      "cell_type": "markdown",
      "metadata": {
        "id": "d4Y4QiAicPlK"
      },
      "source": [
        "### Remove Long Reviews"
      ]
    },
    {
      "cell_type": "code",
      "execution_count": null,
      "metadata": {
        "colab": {
          "base_uri": "https://localhost:8080/"
        },
        "id": "d8zk6NfjexZc",
        "outputId": "a6737231-a4c4-42b9-fa77-c59607eb02e6"
      },
      "outputs": [],
      "source": [
        "# Count samples with more than 2048 tokens\n",
        "num_long_reviews = (df['review_token_count'] > 2048).sum()\n",
        "print(f\"Number of reviews with more than 2048 tokens: {num_long_reviews}\")\n",
        "\n",
        "# Drop those samples\n",
        "df = df[df['review_token_count'] <= 2048].reset_index(drop=True)"
      ]
    },
    {
      "cell_type": "markdown",
      "metadata": {
        "id": "ntEU6l_XcVBh"
      },
      "source": [
        "### Visualizing Rating Distribution"
      ]
    },
    {
      "cell_type": "code",
      "execution_count": null,
      "metadata": {
        "colab": {
          "base_uri": "https://localhost:8080/",
          "height": 507
        },
        "id": "DLFbdmhBjimD",
        "outputId": "6e77096f-3409-44f1-c43b-c0d33d142577"
      },
      "outputs": [],
      "source": [
        "fig, axes = plt.subplots(1, 2, figsize=(12, 5))\n",
        "\n",
        "# Countplot\n",
        "sns.countplot(x='rating', hue='rating', data=df, ax=axes[0], palette='hls', legend=False)\n",
        "axes[0].set_title(\"Rating Distribution (Bar)\")\n",
        "\n",
        "# Pie chart\n",
        "rating_counts = df['rating'].value_counts().sort_index()\n",
        "axes[1].pie(rating_counts, labels=rating_counts.index, autopct='%1.1f%%', startangle=90, colors=sns.color_palette('hls'))\n",
        "axes[1].set_title(\"Rating Distribution (Pie)\")\n",
        "\n",
        "plt.tight_layout()\n",
        "plt.show()"
      ]
    },
    {
      "cell_type": "markdown",
      "metadata": {
        "id": "gJiSI7ULcauN"
      },
      "source": [
        "### Visualizing Token Count Distribution"
      ]
    },
    {
      "cell_type": "code",
      "execution_count": null,
      "metadata": {
        "colab": {
          "base_uri": "https://localhost:8080/",
          "height": 472
        },
        "id": "ZCYaZJfcc8cy",
        "outputId": "37dfb4a5-0b19-4096-a668-0a95c85c04ea"
      },
      "outputs": [],
      "source": [
        "sns.histplot(df['review_token_count'], bins=30)\n",
        "plt.title(\"Token Count Distribution\")\n",
        "df.drop(\"review_token_count\", axis=1, inplace=True)"
      ]
    },
    {
      "cell_type": "markdown",
      "metadata": {
        "id": "6PQkpO5tckrV"
      },
      "source": [
        "### Common Word Analysis Based on Rating"
      ]
    },
    {
      "cell_type": "code",
      "execution_count": null,
      "metadata": {
        "colab": {
          "base_uri": "https://localhost:8080/"
        },
        "id": "71YVxiR5aGx4",
        "outputId": "f3e08187-d9b5-4fc6-b2ed-53bb293106e4"
      },
      "outputs": [],
      "source": [
        "nltk.download('stopwords')\n",
        "\n",
        "stop_words = set(stopwords.words('english'))\n",
        "punctuation = set(string.punctuation)\n",
        "\n",
        "# Define rating thresholds\n",
        "high_threshold = 4\n",
        "low_threshold = 2\n",
        "\n",
        "# Filter reviews based on rating\n",
        "high_reviews = df[df['rating'] >= high_threshold]['tokens']\n",
        "low_reviews = df[df['rating'] <= low_threshold]['tokens']\n",
        "\n",
        "def clean_token(token):\n",
        "    # Remove leading non-alphanumeric characters (e.g., Ġ, ▁)\n",
        "    return re.sub(r'^[^a-zA-Z0-9]+', '', token)\n",
        "\n",
        "# Filter function for token lists\n",
        "def filter_tokens(tokens):\n",
        "    cleaned = []\n",
        "    for token in tokens:\n",
        "        clean = clean_token(token).lower()\n",
        "        if clean and clean not in stop_words and clean not in punctuation and len(clean) > 1:\n",
        "            cleaned.append(clean)\n",
        "    return cleaned\n",
        "\n",
        "# Flatten and filter token lists\n",
        "high_tokens = [token for tokens in high_reviews for token in filter_tokens(tokens)]\n",
        "low_tokens = [token for tokens in low_reviews for token in filter_tokens(tokens)]\n",
        "\n",
        "# Count most common words\n",
        "high_common = Counter(high_tokens).most_common(10)\n",
        "low_common = Counter(low_tokens).most_common(10)\n",
        "\n",
        "high_df = pd.DataFrame(high_common, columns=['Word', 'Frequency'])\n",
        "low_df = pd.DataFrame(low_common, columns=['Word', 'Frequency'])\n",
        "\n",
        "# Display results\n",
        "print(\"\\nMost common words in HIGH rating reviews:\")\n",
        "print(high_df)\n",
        "\n",
        "print(\"\\nMost common words in LOW rating reviews:\")\n",
        "print(low_df)\n",
        "\n",
        "# Drop 'tokens' column, it's no longer needed\n",
        "df.drop('tokens', axis=1, inplace=True)"
      ]
    },
    {
      "cell_type": "markdown",
      "metadata": {
        "id": "d_lInxJZct1x"
      },
      "source": [
        "### Parsing and Calculating Helpfulness Ratio"
      ]
    },
    {
      "cell_type": "code",
      "execution_count": null,
      "metadata": {
        "id": "FzK2hXBOe853"
      },
      "outputs": [],
      "source": [
        "def parse_helpful(value):\n",
        "    try:\n",
        "        # If the value is a string that represents a list, [1,2]\n",
        "        if isinstance(value, str) and value.startswith(\"[\") and value.endswith(\"]\"):\n",
        "            parsed = ast.literal_eval(value)\n",
        "            if isinstance(parsed, list) and len(parsed) == 2:\n",
        "                return parsed[0], parsed[1]\n",
        "         # If the value is a string representing a fraction, 1/2\n",
        "        elif isinstance(value, str) and '/' in value:\n",
        "            helpful_votes, total_votes = map(int, value.split('/'))\n",
        "            return helpful_votes, total_votes\n",
        "    except:\n",
        "        pass\n",
        "    return 0, 0\n",
        "\n",
        "df[['helpful_votes', 'total_votes']] = df['helpful'].apply(\n",
        "    lambda x: pd.Series(parse_helpful(x))\n",
        ")\n",
        "\n",
        "# Calculate the helpfulness ratio (helpful_votes / total_votes) for each row.\n",
        "# If total_votes is 0, set the ratio to 0 to avoid division by zero.\n",
        "df['helpfulness_ratio'] = np.where(\n",
        "    df['total_votes'] == 0,\n",
        "    0,\n",
        "    np.round(df['helpful_votes'] / df['total_votes'], 2)\n",
        ")\n",
        "\n",
        "df.drop('helpful', axis=1, inplace=True)"
      ]
    },
    {
      "cell_type": "markdown",
      "metadata": {
        "id": "Y_dMz6jrcy4t"
      },
      "source": [
        "### Visualizing Binned Distributions of Helpfulness Metrics"
      ]
    },
    {
      "cell_type": "code",
      "execution_count": null,
      "metadata": {
        "colab": {
          "base_uri": "https://localhost:8080/",
          "height": 404
        },
        "id": "bBDRXNPufDnj",
        "outputId": "9950b0ca-cd03-453b-c534-e1fb20fecf7e"
      },
      "outputs": [],
      "source": [
        "df['helpful_votes_binned'] = pd.cut(df['helpful_votes'], bins=[-1, 0, 1, 3, 5, 10, 20, np.inf],\n",
        "                                     labels=['0', '1', '2-3', '4-5', '6-10', '11-20', '21+'])\n",
        "\n",
        "df['total_votes_binned'] = pd.cut(df['total_votes'], bins=[-1, 0, 1, 3, 5, 10, 20, np.inf],\n",
        "                                   labels=['0', '1', '2-3', '4-5', '6-10', '11-20', '21+'])\n",
        "\n",
        "df['helpfulness_ratio_binned'] = pd.cut(df['helpfulness_ratio'], bins=[-0.01, 0, 0.25, 0.5, 0.75, 1.0],\n",
        "                                        labels=['0', '0.01–0.25', '0.26–0.5', '0.51–0.75', '0.76–1.0'])\n",
        "\n",
        "\n",
        "fig, axes = plt.subplots(1, 3, figsize=(18, 5))\n",
        "\n",
        "sns.countplot(x='helpful_votes_binned', hue=\"helpful_votes_binned\", data=df, ax=axes[0], palette='hls')\n",
        "axes[0].set_title(\"helpful_votes_binned\")\n",
        "\n",
        "sns.countplot(x='total_votes_binned', hue=\"total_votes_binned\",data=df, ax=axes[1], palette='hls')\n",
        "axes[1].set_title(\"total_votes_binned\")\n",
        "\n",
        "sns.countplot(x='helpfulness_ratio_binned', hue=\"helpfulness_ratio_binned\", data=df, ax=axes[2], palette='hls')\n",
        "axes[2].set_title(\"helpfulness_ratio_binned\")\n",
        "\n",
        "plt.tight_layout()\n",
        "plt.show()\n",
        "\n",
        "df.drop('helpful_votes_binned', axis=1, inplace=True)\n",
        "df.drop('total_votes_binned', axis=1, inplace=True)\n",
        "df.drop('helpfulness_ratio_binned', axis=1, inplace=True)"
      ]
    },
    {
      "cell_type": "markdown",
      "metadata": {
        "id": "k0KerqEjc3jd"
      },
      "source": [
        "### Correlation Between 'Helpfulness Ratio' and 'Rating'"
      ]
    },
    {
      "cell_type": "code",
      "execution_count": null,
      "metadata": {
        "colab": {
          "base_uri": "https://localhost:8080/"
        },
        "id": "VMzr79RUfHUz",
        "outputId": "0a880b62-5683-4f52-cc2b-347658739fff"
      },
      "outputs": [],
      "source": [
        "correlation = df['rating'].corr(df['helpfulness_ratio'])\n",
        "print(f\"Correlation between 'helpfulness_ratio' and 'rating': {correlation}\")\n",
        "\n",
        "# Almost no correlation between 'helpfulness_ratio' and 'rating'\n",
        "\n",
        "# Helpfullnes may have affected the rating positively or negatively,\n",
        "# So it makes sense that the correlation is close to 0."
      ]
    },
    {
      "cell_type": "markdown",
      "metadata": {
        "id": "cL5hVvK5c8Kh"
      },
      "source": [
        "### Boxplot of Ratings by Helpfulness Ratio Bins"
      ]
    },
    {
      "cell_type": "code",
      "execution_count": null,
      "metadata": {
        "colab": {
          "base_uri": "https://localhost:8080/",
          "height": 472
        },
        "id": "cPVnJdEio_GH",
        "outputId": "08bee9cb-0e7c-4395-9a97-8a5123503bd1"
      },
      "outputs": [],
      "source": [
        "df['helpfulness_bin'] = pd.cut(df['helpfulness_ratio'], bins=[0, 0.25, 0.5, 0.75, 1.0])\n",
        "sns.boxplot(x='helpfulness_bin', y='rating', data=df)\n",
        "plt.title(\"Rating Distribution by Helpfulness Ratio Bin\")\n",
        "plt.show()\n",
        "df.drop(\"helpfulness_bin\", axis=1, inplace=True)"
      ]
    },
    {
      "cell_type": "code",
      "execution_count": null,
      "metadata": {
        "colab": {
          "base_uri": "https://localhost:8080/",
          "height": 272
        },
        "id": "OsZ6wfZ6qHRu",
        "outputId": "65d1ef0c-452f-452b-e068-1f668d77fc0c"
      },
      "outputs": [],
      "source": [
        "df.dtypes"
      ]
    },
    {
      "cell_type": "markdown",
      "metadata": {
        "id": "HgVIf8WUdHUx"
      },
      "source": [
        "### Combining 'summary' and 'reviewText' Columns"
      ]
    },
    {
      "cell_type": "code",
      "execution_count": null,
      "metadata": {
        "id": "6MShJpfktGR1"
      },
      "outputs": [],
      "source": [
        "df['reviewText'] = df[\"reviewText\"].replace(\"\\n\", \" \")\n",
        "df[\"combined_text\"] = df[\"summary\"] + \" \" + df[\"reviewText\"]\n",
        "\n",
        "df.drop(\"reviewText\", axis=1, inplace=True)\n",
        "df.drop(\"summary\", axis=1, inplace=True)"
      ]
    },
    {
      "cell_type": "code",
      "execution_count": null,
      "metadata": {
        "colab": {
          "base_uri": "https://localhost:8080/",
          "height": 206
        },
        "id": "glkMVk3yAbG4",
        "outputId": "c4a4e30a-252f-4744-9dfa-64df443522fb"
      },
      "outputs": [],
      "source": [
        "df.head()"
      ]
    },
    {
      "cell_type": "markdown",
      "metadata": {
        "id": "YD-1EQuVDaAZ"
      },
      "source": [
        "# Model Development"
      ]
    },
    {
      "cell_type": "markdown",
      "metadata": {
        "id": "aTNk36bbdQ_N"
      },
      "source": [
        "### Calculating Laplace-Smoothing for Helpfulness Ratio"
      ]
    },
    {
      "cell_type": "code",
      "execution_count": null,
      "metadata": {
        "id": "BVxWGXZrQLhE"
      },
      "outputs": [],
      "source": [
        "α = 5\n",
        "μ = (\n",
        "    df[\"helpful_votes\"].sum()\n",
        "    / df[\"total_votes\"].replace(0, np.nan).sum()\n",
        ")\n",
        "\n",
        "# Laplace smoothing\n",
        "df[\"smoothed_ratio\"] = (\n",
        "    df[\"helpful_votes\"] + α * μ\n",
        ") / (df[\"total_votes\"] + α)\n",
        "\n",
        "# Normalize to mean=1\n",
        "df[\"weight\"] = df[\"smoothed_ratio\"] / df[\"smoothed_ratio\"].mean()\n",
        "\n",
        "df.drop(\"helpful_votes\", axis=1, inplace=True)\n",
        "df.drop(\"total_votes\", axis=1, inplace=True)\n",
        "df.drop('helpfulness_ratio', axis=1, inplace=True)"
      ]
    },
    {
      "cell_type": "markdown",
      "metadata": {
        "id": "8lSJ4jsodnm8"
      },
      "source": [
        "### Custom Dataset Class for BERT Model"
      ]
    },
    {
      "cell_type": "code",
      "execution_count": null,
      "metadata": {
        "id": "aHIil9k6DVHl"
      },
      "outputs": [],
      "source": [
        "class BERTDataset(Dataset):\n",
        "    \"\"\"\n",
        "    A custom dataset class for tokenizing and processing text data for BERT-based models.\n",
        "\n",
        "    Attributes:\n",
        "        data (pandas.DataFrame): DataFrame containing the dataset.\n",
        "        tokenizer (transformers.PreTrainedTokenizer): The tokenizer used to tokenize the input text.\n",
        "        max_len (int): Maximum length for tokenized text sequences.\n",
        "    \"\"\"\n",
        "  def __init__(self, data, tokenizer, max_len):\n",
        "    \"\"\"\n",
        "        Initializes the BERTDataset object.\n",
        "\n",
        "        Parameters:\n",
        "            data (pandas.DataFrame): The input DataFrame containing the dataset. It should have at least\n",
        "                                      a 'combined_text' column (text data) and 'rating' column (target values).\n",
        "            tokenizer (transformers.PreTrainedTokenizer): The tokenizer used to tokenize the input text.\n",
        "            max_len (int): The maximum length of the tokenized sequence. Sequences longer than this will\n",
        "                           be truncated, and shorter ones will be padded.\n",
        "    \"\"\"\n",
        "    self.data = data\n",
        "    self.tokenizer = tokenizer\n",
        "    self.max_len = max_len\n",
        "\n",
        "  def __len__(self):\n",
        "    \"\"\"\n",
        "        Returns the number of samples in the dataset.\n",
        "\n",
        "        Returns:\n",
        "            int: The number of samples in the dataset.\n",
        "        \"\"\"\n",
        "    return len(self.data)\n",
        "\n",
        "  def __getitem__(self, index):\n",
        "    \"\"\"\n",
        "        Fetches a single data sample (text and label) and processes it for the model.\n",
        "\n",
        "        Parameters:\n",
        "            index (int): The index of the sample to retrieve from the dataset.\n",
        "\n",
        "        Returns:\n",
        "            dict: A dictionary containing the following:\n",
        "                - 'input_ids' (torch.Tensor): The tokenized input sequence of shape (max_len,).\n",
        "                - 'attention_mask' (torch.Tensor): The attention mask to indicate the padded tokens.\n",
        "                - 'weight' (torch.Tensor): The weight corresponding to the sample, used for weighted loss calculation.\n",
        "                - 'label' (torch.Tensor): The target label (rating) for the text, as a float32 tensor.\n",
        "        \"\"\"\n",
        "    row = self.data.iloc[index]\n",
        "\n",
        "    # Tokenize texts\n",
        "    encoding = self.tokenizer(\n",
        "           row[\"combined_text\"],\n",
        "           padding='max_length',\n",
        "           truncation=True,\n",
        "           max_length=self.max_len,\n",
        "           return_tensors=\"pt\"\n",
        "       )\n",
        "\n",
        "    # Prepare targets\n",
        "    label = torch.tensor(row[\"rating\"], dtype=torch.float32)\n",
        "\n",
        "    return {\n",
        "        'input_ids': encoding['input_ids'].squeeze(0),\n",
        "        'attention_mask': encoding['attention_mask'].squeeze(0),\n",
        "        \"weight\": torch.tensor(row[\"weight\"], dtype=torch.float32),\n",
        "        'label': label\n",
        "    }"
      ]
    },
    {
      "cell_type": "markdown",
      "metadata": {
        "id": "QNVfcYGDdvQ1"
      },
      "source": [
        "### Load Pretrained BERT Model and Tokenizer"
      ]
    },
    {
      "cell_type": "code",
      "execution_count": null,
      "metadata": {
        "colab": {
          "base_uri": "https://localhost:8080/",
          "height": 81,
          "referenced_widgets": [
            "0f53a975df5a4d049a887f0da4aa98b5",
            "ce4a8c694ad647a2bde05f419d3cd14a",
            "b16a79566d6d404a9f63d90aee332a17",
            "5fb4e42bd9e34288b06b42f3e6d92b74",
            "2444cf1a09f14de79b19e3eb626a8c2f",
            "bcf61ba19aff4489b96d1f4f5ecbf70f",
            "4e9c74618edb4033bf9c674469f13be9",
            "95dc25f192fd4b81957d9e10c8403f6c",
            "ce1e02f310084ec7997819a2bf691e75",
            "bff047ebeb5c4afabc1e3fa9e3d47b48",
            "d54a1478a38143a1aa0f87a23404ad83",
            "1df920340c254b1eb27d84140361e125",
            "2a2f345bae5047668a165a1c69c7e90a",
            "a7186da250b841f7bb9b2625b62bc5e3",
            "312df5cc585245518b72529a4e8e804c",
            "6e1a3a27cac244639a79347b7d2405fe",
            "3b00397d4b9749d8b628b66e817c3035",
            "b0420f66220b44cc8c2ca43cfdf60814",
            "8237f316021142269ba6808cf5134626",
            "57c20703174044cd8dc4d2067e3f47e5",
            "bc8c95e55755424e81b8d7092b82d822",
            "0f52601f56ee449e9cabfa4462469a42"
          ]
        },
        "id": "GY_UCHcAL58E",
        "outputId": "939bb949-fe40-42ba-94c3-6882632823c6"
      },
      "outputs": [],
      "source": [
        "model_name = \"answerdotai/ModernBERT-base\"\n",
        "tokenizer = AutoTokenizer.from_pretrained(model_name)\n",
        "model = AutoModel.from_pretrained(model_name)"
      ]
    },
    {
      "cell_type": "markdown",
      "metadata": {
        "id": "h-hEq8fnd2_0"
      },
      "source": [
        "### Freezing and Unfreezing Model Parameters"
      ]
    },
    {
      "cell_type": "code",
      "execution_count": null,
      "metadata": {
        "id": "Jpcv1_jIKZ68"
      },
      "outputs": [],
      "source": [
        "for param in model.parameters():\n",
        "    param.requires_grad = False\n",
        "\n",
        "K = 8\n",
        "for layer in model.layers[-K:]:\n",
        "    for param in layer.parameters():\n",
        "        param.requires_grad = True\n",
        "\n",
        "for param in model.final_norm.parameters():\n",
        "    param.requires_grad = True"
      ]
    },
    {
      "cell_type": "markdown",
      "metadata": {
        "id": "R1t6XdbOd9qs"
      },
      "source": [
        "### Creating DataLoaders"
      ]
    },
    {
      "cell_type": "code",
      "execution_count": null,
      "metadata": {
        "id": "5wFP6m07MCbM"
      },
      "outputs": [],
      "source": [
        "max_len = 2048\n",
        "batch_size = 16\n",
        "\n",
        "train_df, test_df = train_test_split(df, test_size=0.2, random_state=42)\n",
        "\n",
        "train_dataset = BERTDataset(train_df, tokenizer, max_len)\n",
        "test_dataset = BERTDataset(test_df, tokenizer, max_len)\n",
        "\n",
        "train_loader = DataLoader(train_dataset, batch_size=batch_size, shuffle=True)\n",
        "test_loader = DataLoader(test_dataset, batch_size=batch_size)"
      ]
    },
    {
      "cell_type": "markdown",
      "metadata": {
        "id": "h_wuFaXqeB_g"
      },
      "source": [
        "### Defining the BERT Regressor Model"
      ]
    },
    {
      "cell_type": "code",
      "execution_count": null,
      "metadata": {
        "id": "oVSukIhOO4dQ"
      },
      "outputs": [],
      "source": [
        "class BERTRegressor(nn.Module):\n",
        "  \"\"\"\n",
        "    A custom PyTorch model for regression tasks using a pre-trained BERT model followed by a regression head.\n",
        "\n",
        "    Attributes:\n",
        "        bert (transformers.PreTrainedModel): The pre-trained BERT model\n",
        "        regressor (nn.Sequential): A sequence of layers for the regression task, which includes a dropout,\n",
        "                                   a linear layer, a GELU activation, and another linear layer for output.\n",
        "    \"\"\"\n",
        "    def __init__(self, base_model):\n",
        "        super().__init__()\n",
        "        \"\"\"\n",
        "        Initializes the BERTRegressor model.\n",
        "\n",
        "        Parameters:\n",
        "            base_model (transformers.PreTrainedModel): A pre-trained BERT model\n",
        "\n",
        "        \"\"\"\n",
        "\n",
        "        self.bert = base_model\n",
        "\n",
        "        self.regressor = nn.Sequential(\n",
        "             nn.Dropout(0.3),\n",
        "             nn.Linear(self.bert.config.hidden_size, 128),\n",
        "             nn.ReLU(),\n",
        "             nn.Linear(128, 1), # Regression output\n",
        "         )\n",
        "\n",
        "    def forward(self, input_ids, attention_mask):\n",
        "      \"\"\"\n",
        "        Defines the forward pass of the model.\n",
        "\n",
        "        Parameters:\n",
        "            input_ids (torch.Tensor): The tokenized input sequence of shape `(batch_size, sequence_length)`.\n",
        "            attention_mask (torch.Tensor): The attention mask for the input sequence, which indicates the padded tokens\n",
        "                                          with a value of 0 and the real tokens with a value of 1.\n",
        "\n",
        "        Returns:\n",
        "            torch.Tensor: The model's predicted regression value for each input sample, shaped `(batch_size,)`.\n",
        "        \"\"\"\n",
        "        cls = self.bert(input_ids=input_ids, attention_mask=attention_mask).last_hidden_state[:, 0]\n",
        "\n",
        "        return self.regressor(cls).squeeze(-1)"
      ]
    },
    {
      "cell_type": "markdown",
      "metadata": {
        "id": "us-G79uZeJsA"
      },
      "source": [
        "### Model Setup and Training Configuration"
      ]
    },
    {
      "cell_type": "code",
      "execution_count": null,
      "metadata": {
        "id": "Wydf1_IA9U9J"
      },
      "outputs": [],
      "source": [
        "device = \"cuda\" if torch.cuda.is_available() else \"cpu\"\n",
        "\n",
        "num_epochs = 3\n",
        "freq =  200\n",
        "\n",
        "model = BERTRegressor(model)\n",
        "model = model.to(device)\n",
        "\n",
        "loss_fn = nn.MSELoss(reduction='none')\n",
        "optimizer = torch.optim.AdamW(model.parameters(), lr=2e-5, weight_decay=0.01)\n",
        "\n",
        "total_steps = len(train_loader) * num_epochs\n",
        "warmup_steps = int(0.1 * total_steps)\n",
        "\n",
        "scheduler = get_linear_schedule_with_warmup(\n",
        "    optimizer,\n",
        "    num_warmup_steps=warmup_steps,\n",
        "    num_training_steps=total_steps\n",
        ")\n",
        "\n",
        "torch.set_float32_matmul_precision('high')"
      ]
    },
    {
      "cell_type": "markdown",
      "metadata": {
        "id": "w6D_FaL9eUB-"
      },
      "source": [
        "### Training and Evaluation Loop"
      ]
    },
    {
      "cell_type": "code",
      "execution_count": null,
      "metadata": {
        "colab": {
          "base_uri": "https://localhost:8080/"
        },
        "id": "cnFaGC9E88io",
        "outputId": "6b846def-a8f2-4ce6-d0df-f0ff6786211d"
      },
      "outputs": [],
      "source": [
        "# Train a single epoch\n",
        "def train_epoch(model, optimizer, scheduler, loss_fn, input_ids, attn_mask, label, device, weight):\n",
        "  \"\"\"\n",
        "    Performs one step of training for a single epoch.\n",
        "\n",
        "    Parameters:\n",
        "        model (nn.Module): The BERT model to be trained.\n",
        "        optimizer (torch.optim.Optimizer): The optimizer used for updating model parameters.\n",
        "        scheduler (torch.optim.lr_scheduler): The learning rate scheduler to adjust the learning rate.\n",
        "        loss_fn (function): The loss function used to compute the loss between predictions and true values.\n",
        "        input_ids (torch.Tensor): The input token IDs to the model (batch size x sequence length).\n",
        "        attn_mask (torch.Tensor): The attention mask for the input sequences, marking the real tokens and padding.\n",
        "        label (torch.Tensor): The true labels (target values) for the regression task.\n",
        "        device (torch.device): The device (CPU or GPU) where the model and tensors should be loaded.\n",
        "        weight (torch.Tensor): The weight to be applied to the loss for each sample.\n",
        "\n",
        "    Returns:\n",
        "        weighted_loss (float): The mean weighted loss for this batch.\n",
        "        output (torch.Tensor): The model's output predictions for the input batch.\n",
        "        lr (float): The current learning rate after the optimizer step.\n",
        "    \"\"\"\n",
        "\n",
        "    optimizer.zero_grad()\n",
        "\n",
        "    output = model(input_ids=input_ids, attention_mask=attn_mask)\n",
        "\n",
        "    losses = loss_fn(output, label)\n",
        "    weighted_loss = (losses * weight).mean()\n",
        "    weighted_loss.backward()\n",
        "\n",
        "    torch.nn.utils.clip_grad_norm_(model.parameters(), 1.0)\n",
        "    optimizer.step()\n",
        "    scheduler.step()\n",
        "\n",
        "    lr = optimizer.param_groups[0][\"lr\"]\n",
        "\n",
        "    return weighted_loss.item(), output, lr\n",
        "\n",
        "# Evaluate the model\n",
        "def evaluate(model, test_loader, loss_fn, device):\n",
        "  \"\"\"\n",
        "    Evaluates the model on the test dataset.\n",
        "\n",
        "    Parameters:\n",
        "        model (nn.Module): The trained model.\n",
        "        test_loader (DataLoader): DataLoader for the test dataset.\n",
        "        loss_fn (function): The loss function to compute the loss.\n",
        "        device (torch.device): The device (CPU or GPU) where the model and tensors should be loaded.\n",
        "\n",
        "    Returns:\n",
        "        avg_val_loss (float): The average validation loss across the entire test set.\n",
        "        mae (float): The Mean Absolute Error (MAE) for the predictions.\n",
        "        mse (float): The Mean Squared Error (MSE) for the predictions.\n",
        "        r2 (float): The R-squared score for the predictions.\n",
        "        true_vals (numpy.ndarray): The true target values for the test set.\n",
        "        preds (numpy.ndarray): The predicted target values by the model.\n",
        "    \"\"\"\n",
        "    model.eval()\n",
        "    total_val_loss = 0.\n",
        "    preds, true_vals = [], []\n",
        "\n",
        "    with torch.no_grad():\n",
        "        for batch in tqdm(test_loader, desc=\"Evaluating\", leave=False):\n",
        "            input_ids = batch[\"input_ids\"].to(device)\n",
        "            attn_mask = batch[\"attention_mask\"].to(device)\n",
        "            targets = batch[\"label\"].float().to(device)\n",
        "            weights = batch[\"weight\"].to(device)\n",
        "\n",
        "            outputs = model(input_ids=input_ids,\n",
        "                            attention_mask=attn_mask)\n",
        "\n",
        "            loss = loss_fn(outputs, targets)\n",
        "            weighted_loss = (loss * weights).mean()\n",
        "            total_val_loss += weighted_loss.item()\n",
        "\n",
        "            preds.extend(outputs.cpu().numpy())\n",
        "            true_vals.extend(targets.cpu().numpy())\n",
        "\n",
        "    true_vals = np.array(true_vals)\n",
        "    preds = np.array(preds)\n",
        "\n",
        "    # Compute regression metrics\n",
        "    mae = mean_absolute_error(true_vals, preds)\n",
        "    mse = mean_squared_error(true_vals, preds)\n",
        "    r2  = r2_score(true_vals, preds)\n",
        "\n",
        "    avg_val_loss = total_val_loss / len(test_loader)\n",
        "    return avg_val_loss, mae, mse, r2, true_vals, preds\n",
        "\n",
        "# Train function\n",
        "def train(model, train_loader, test_loader, loss_fn, optimizer, scheduler, num_epochs, freq, device):\n",
        "  \"\"\"\n",
        "    Trains the model for a specified number of epochs and evaluates it after each epoch.\n",
        "\n",
        "    Parameters:\n",
        "        model (nn.Module): The model to be trained.\n",
        "        train_loader (DataLoader): The DataLoader for the training dataset.\n",
        "        test_loader (DataLoader): The DataLoader for the test dataset.\n",
        "        loss_fn (function): The loss function for training.\n",
        "        optimizer (torch.optim.Optimizer): The optimizer to update model parameters.\n",
        "        scheduler (torch.optim.lr_scheduler): The learning rate scheduler to adjust the learning rate.\n",
        "        num_epochs (int): The number of epochs to train the model.\n",
        "        freq (int): The frequency of printing the loss during training.\n",
        "        device (torch.device): The device (CPU or GPU) for training.\n",
        "\n",
        "    Returns:\n",
        "        model (nn.Module): The trained model.\n",
        "        train_losses (list): A list of training losses per epoch.\n",
        "        val_losses (list): A list of validation losses per epoch.\n",
        "        mae_arr (list): A list of MAE (Mean Absolute Error) values per epoch.\n",
        "        mse_arr (list): A list of MSE (Mean Squared Error) values per epoch.\n",
        "        r2_arr (list): A list of R-squared values per epoch.\n",
        "    \"\"\"\n",
        "    print(f\"\\nTotal Batch: {len(train_loader)}\\n\")\n",
        "\n",
        "    train_losses, val_losses = [], []\n",
        "    mae_arr, mse_arr, r2_arr = [], [], []\n",
        "\n",
        "    for epoch in range(num_epochs):\n",
        "        print(f\"\\nEPOCH {epoch + 1}/{num_epochs}\")\n",
        "        print(\"###################################\")\n",
        "\n",
        "        model.train()\n",
        "\n",
        "        total_loss = 0.\n",
        "        global_step = 0\n",
        "        last_loss = 0.\n",
        "\n",
        "        for batch in tqdm(train_loader, desc=\"Training\", leave=False):\n",
        "            input_ids = batch[\"input_ids\"].to(device)\n",
        "            attn_mask = batch[\"attention_mask\"].to(device)\n",
        "            weight = batch[\"weight\"].to(device)\n",
        "            label = batch[\"label\"].float().to(device)\n",
        "\n",
        "            loss, _, lr = train_epoch(model, optimizer, scheduler, loss_fn, input_ids, attn_mask, label, device, weight)\n",
        "\n",
        "            total_loss += loss\n",
        "            global_step += 1\n",
        "\n",
        "            # Print loss\n",
        "            if global_step % freq == 0:\n",
        "                last_loss = total_loss / freq\n",
        "                print(f\"  Loss: {last_loss:.2f} | Lr: {lr:.6f}\")\n",
        "                total_loss = 0.\n",
        "\n",
        "        # Evaluate the model after each epoch\n",
        "        avg_val_loss, mae, mse, r2, true_labels, preds = evaluate(model, test_loader, loss_fn, device)\n",
        "\n",
        "        print(f\"\\nTrain Loss: {last_loss:.2f} | Valid Loss: {avg_val_loss:.2f} | Lr: {lr:.10f}\")\n",
        "        print(f\"\\nEvaluation Metrics:\\n\"\n",
        "              f\"  MAE:  {mae:.2f}\\n\"\n",
        "              f\"  MSE:  {mse:.2f}\\n\"\n",
        "              f\"  R2: {r2:.2f}\\n\")\n",
        "\n",
        "        train_losses.append(last_loss)\n",
        "        val_losses.append(avg_val_loss)\n",
        "        mae_arr.append(mae)\n",
        "        mse_arr.append(mse)\n",
        "        r2_arr.append(r2)\n",
        "\n",
        "    return model, train_losses, val_losses, mae_arr, mse_arr, r2_arr\n",
        "\n",
        "new_model, train_loss, val_los, mae, mse, r2 = train(\n",
        "    model,\n",
        "    train_loader,\n",
        "    test_loader,\n",
        "    loss_fn,\n",
        "    optimizer,\n",
        "    scheduler,\n",
        "    num_epochs,\n",
        "    freq,\n",
        "    device\n",
        ")"
      ]
    },
    {
      "cell_type": "markdown",
      "metadata": {
        "id": "jfKBL6Y_eZfX"
      },
      "source": [
        "# Model Evaluation"
      ]
    },
    {
      "cell_type": "markdown",
      "metadata": {
        "id": "aLFcrY3aeexI"
      },
      "source": [
        "### Plotting Training Results"
      ]
    },
    {
      "cell_type": "code",
      "execution_count": null,
      "metadata": {
        "id": "l2EZJyGCTxbI"
      },
      "outputs": [],
      "source": [
        "def plot_results(train_loss, val_loss, mae, mse, r2):\n",
        "  \"\"\"\n",
        "  This function plots the training and evaluation results for different metrics across epochs.\n",
        "\n",
        "  Parameters:\n",
        "    train_loss: List of training loss values for each epoch\n",
        "    val_loss: List of validation loss values for each epoch\n",
        "    mae: List of Mean Absolute Error (MAE) values for each epoch\n",
        "    mse: List of Mean Squared Error (MSE) values for each epoch\n",
        "    r2: List of R-Squared (R2) values for each epoch\n",
        "\n",
        "  Return:\n",
        "    This function does not return any value. It only visualizes the results in a plot.\n",
        "  \"\"\"\n",
        "  num_epochs = list(range(1, len(train_loss)+1))\n",
        "\n",
        "  plt.figure()\n",
        "\n",
        "  fig, axes = plt.subplots(2, 2, figsize=(12, 6))\n",
        "\n",
        "  axes[0,0].plot(num_epochs, train_loss, label=\"Train Loss\")\n",
        "  axes[0,0].plot(num_epochs, val_loss, linestyle=\"-.\", label=\"Validation loss\")\n",
        "  axes[0,0].set_xlabel(\"Epoch\")\n",
        "  axes[0,0].set_ylabel(\"Loss\")\n",
        "  axes[0,0].legend()\n",
        "\n",
        "  axes[0,1].plot(num_epochs, mae)\n",
        "  axes[0,1].set_xlabel(\"Epoch\")\n",
        "  axes[0,1].set_ylabel(\"MAE\")\n",
        "\n",
        "  axes[1,0].plot(num_epochs, mse)\n",
        "  axes[1,0].set_xlabel(\"Epoch\")\n",
        "  axes[1,0].set_ylabel(\"MSE\")\n",
        "\n",
        "  axes[1,1].plot(num_epochs, r2)\n",
        "  axes[1,1].set_xlabel(\"Epoch\")\n",
        "  axes[1,1].set_ylabel(\"R2\")\n",
        "\n",
        "  fig.tight_layout()\n",
        "  plt.show()"
      ]
    },
    {
      "cell_type": "code",
      "execution_count": null,
      "metadata": {
        "id": "OdYLyIBEjN9J"
      },
      "outputs": [],
      "source": [
        "plot_results(train_loss, val_los, mae, mse, r2)"
      ]
    },
    {
      "cell_type": "markdown",
      "metadata": {
        "id": "J12aiWoEeioM"
      },
      "source": [
        "### Save Model"
      ]
    },
    {
      "cell_type": "code",
      "execution_count": null,
      "metadata": {
        "id": "SChjRnYppEki"
      },
      "outputs": [],
      "source": [
        "torch.save(model.state_dict(), \"/content/drive/MyDrive/BERT_rating_prediction/model/weights.pth\")\n",
        "torch.save(model.state_dict(), \"/content/drive/MyDrive/BERT_rating_prediction/model/weights.bin\")\n",
        "tokenizer.save_pretrained(\"/content/drive/MyDrive/BERT_rating_prediction/model/tokenizer/\")"
      ]
    },
    {
      "cell_type": "code",
      "execution_count": null,
      "metadata": {
        "id": "irWNEERaa3sP"
      },
      "outputs": [],
      "source": [
        "test_df.drop(['smoothed_ratio'], axis=1, inplace=True)\n",
        "test_df.columns"
      ]
    },
    {
      "cell_type": "markdown",
      "metadata": {
        "id": "i-aUnG_xeobJ"
      },
      "source": [
        "### Inference and Evaluation Function"
      ]
    },
    {
      "cell_type": "code",
      "execution_count": null,
      "metadata": {
        "id": "sQ89xsxTXCIq"
      },
      "outputs": [],
      "source": [
        "def inference(model, test_loader, device):\n",
        "  \"\"\"\n",
        "  This function performs the inference (prediction) phase of a trained model on a test dataset.\n",
        "\n",
        "  Parameters:\n",
        "    model: The trained model to make predictions\n",
        "    test_loader: A DataLoader that provides the test dataset in batches\n",
        "    device: The device on which the model and data will be processed (e.g., 'cuda' or 'cpu')\n",
        "\n",
        "  Returns:\n",
        "    mse: Mean Squared Error between predictions and true labels\n",
        "    mae: Mean Absolute Error between predictions and true labels\n",
        "    r2: R-squared (R2) score between predictions and true labels\n",
        "    all_labels: The true labels from the test dataset\n",
        "    all_preds: The model's predictions for the test dataset\n",
        "  \"\"\"\n",
        "    model.eval()\n",
        "\n",
        "    all_preds = []\n",
        "    all_labels = []\n",
        "\n",
        "    with torch.no_grad():\n",
        "        for batch in tqdm(test_loader, desc=\"Evaluating\"):\n",
        "            input_ids = batch[\"input_ids\"].to(device)\n",
        "            attention_mask = batch[\"attention_mask\"].to(device)\n",
        "            weight = batch[\"weight\"].to(device)\n",
        "            labels = batch[\"label\"].float().to(device)\n",
        "\n",
        "            # Get predictions\n",
        "            outputs = model(input_ids=input_ids, attention_mask=attention_mask)\n",
        "\n",
        "            all_preds.extend(outputs.cpu().numpy())\n",
        "            all_labels.extend(labels.cpu().numpy())\n",
        "\n",
        "    all_preds = np.array(all_preds)\n",
        "    all_labels = np.array(all_labels)\n",
        "\n",
        "    # Compute regression metrics\n",
        "    mse = mean_squared_error(all_labels, all_preds)\n",
        "    mae = mean_absolute_error(all_labels, all_preds)\n",
        "    r2 = r2_score(all_labels, all_preds)\n",
        "\n",
        "    return mse, mae, r2, all_labels, all_preds"
      ]
    },
    {
      "cell_type": "code",
      "execution_count": null,
      "metadata": {
        "id": "ymsfZ55ZXzf2"
      },
      "outputs": [],
      "source": [
        "mse, mae, r2, true_labels, preds = inference(new_model, test_loader, device)\n",
        "\n",
        "print(f\"\\nMAE: {mae:.2f}\")\n",
        "print(f\"MSE: {mse:.2f}\")\n",
        "print(f\"R2 : {r2:.2f}\")\n",
        "\n",
        "test_df[\"preds\"] = preds\n",
        "\n",
        "# Clip predictions to max value of 5.0\n",
        "test_df[\"preds\"] = test_df[\"preds\"].clip(upper=5.0)\n",
        "\n",
        "# Round predictions to nearest integer (e.g., 4.74 → 5)\n",
        "test_df[\"preds\"] = test_df[\"preds\"].round()"
      ]
    },
    {
      "cell_type": "code",
      "execution_count": null,
      "metadata": {
        "id": "y8L3RCnRKTyc"
      },
      "outputs": [],
      "source": [
        "test_df.drop([\"weight\"], axis=1, inplace=True)"
      ]
    },
    {
      "cell_type": "markdown",
      "metadata": {
        "id": "1aXWrVFIes17"
      },
      "source": [
        "### Model prediction"
      ]
    },
    {
      "cell_type": "code",
      "execution_count": null,
      "metadata": {
        "id": "1xQQmeU8X1OJ"
      },
      "outputs": [],
      "source": [
        "test_df.head(10)"
      ]
    }
  ],
  "metadata": {
    "accelerator": "GPU",
    "colab": {
      "gpuType": "L4",
      "machine_shape": "hm",
      "provenance": []
    },
    "kernelspec": {
      "display_name": "Python 3",
      "name": "python3"
    },
    "language_info": {
      "name": "python"
    },
    "widgets": {
      "application/vnd.jupyter.widget-state+json": {
        "024fca323d1f47f982cd91d6bf10d561": {
          "model_module": "@jupyter-widgets/base",
          "model_module_version": "1.2.0",
          "model_name": "LayoutModel",
          "state": {
            "_model_module": "@jupyter-widgets/base",
            "_model_module_version": "1.2.0",
            "_model_name": "LayoutModel",
            "_view_count": null,
            "_view_module": "@jupyter-widgets/base",
            "_view_module_version": "1.2.0",
            "_view_name": "LayoutView",
            "align_content": null,
            "align_items": null,
            "align_self": null,
            "border": null,
            "bottom": null,
            "display": null,
            "flex": null,
            "flex_flow": null,
            "grid_area": null,
            "grid_auto_columns": null,
            "grid_auto_flow": null,
            "grid_auto_rows": null,
            "grid_column": null,
            "grid_gap": null,
            "grid_row": null,
            "grid_template_areas": null,
            "grid_template_columns": null,
            "grid_template_rows": null,
            "height": null,
            "justify_content": null,
            "justify_items": null,
            "left": null,
            "margin": null,
            "max_height": null,
            "max_width": null,
            "min_height": null,
            "min_width": null,
            "object_fit": null,
            "object_position": null,
            "order": null,
            "overflow": null,
            "overflow_x": null,
            "overflow_y": null,
            "padding": null,
            "right": null,
            "top": null,
            "visibility": null,
            "width": null
          }
        },
        "05222f0255aa40509c03d68d9d6ee320": {
          "model_module": "@jupyter-widgets/base",
          "model_module_version": "1.2.0",
          "model_name": "LayoutModel",
          "state": {
            "_model_module": "@jupyter-widgets/base",
            "_model_module_version": "1.2.0",
            "_model_name": "LayoutModel",
            "_view_count": null,
            "_view_module": "@jupyter-widgets/base",
            "_view_module_version": "1.2.0",
            "_view_name": "LayoutView",
            "align_content": null,
            "align_items": null,
            "align_self": null,
            "border": null,
            "bottom": null,
            "display": null,
            "flex": null,
            "flex_flow": null,
            "grid_area": null,
            "grid_auto_columns": null,
            "grid_auto_flow": null,
            "grid_auto_rows": null,
            "grid_column": null,
            "grid_gap": null,
            "grid_row": null,
            "grid_template_areas": null,
            "grid_template_columns": null,
            "grid_template_rows": null,
            "height": null,
            "justify_content": null,
            "justify_items": null,
            "left": null,
            "margin": null,
            "max_height": null,
            "max_width": null,
            "min_height": null,
            "min_width": null,
            "object_fit": null,
            "object_position": null,
            "order": null,
            "overflow": null,
            "overflow_x": null,
            "overflow_y": null,
            "padding": null,
            "right": null,
            "top": null,
            "visibility": null,
            "width": null
          }
        },
        "066acf1fea7d41b9bbec11f71899ebac": {
          "model_module": "@jupyter-widgets/controls",
          "model_module_version": "1.5.0",
          "model_name": "FloatProgressModel",
          "state": {
            "_dom_classes": [],
            "_model_module": "@jupyter-widgets/controls",
            "_model_module_version": "1.5.0",
            "_model_name": "FloatProgressModel",
            "_view_count": null,
            "_view_module": "@jupyter-widgets/controls",
            "_view_module_version": "1.5.0",
            "_view_name": "ProgressView",
            "bar_style": "success",
            "description": "",
            "description_tooltip": null,
            "layout": "IPY_MODEL_a3ec089cd6bb47c1804ae25f8451758c",
            "max": 694,
            "min": 0,
            "orientation": "horizontal",
            "style": "IPY_MODEL_1b3d7e4b28f648f191f65073d012c7d1",
            "value": 694
          }
        },
        "06d4d9fd372b4d8e91dcbe21f5794faf": {
          "model_module": "@jupyter-widgets/controls",
          "model_module_version": "1.5.0",
          "model_name": "HTMLModel",
          "state": {
            "_dom_classes": [],
            "_model_module": "@jupyter-widgets/controls",
            "_model_module_version": "1.5.0",
            "_model_name": "HTMLModel",
            "_view_count": null,
            "_view_module": "@jupyter-widgets/controls",
            "_view_module_version": "1.5.0",
            "_view_name": "HTMLView",
            "description": "",
            "description_tooltip": null,
            "layout": "IPY_MODEL_1ecf7b963b8740d982fcd96d52bcba51",
            "placeholder": "​",
            "style": "IPY_MODEL_9e0f340e63584186bc7a9d22f1b23fc5",
            "value": "tokenizer_config.json: 100%"
          }
        },
        "0f52601f56ee449e9cabfa4462469a42": {
          "model_module": "@jupyter-widgets/controls",
          "model_module_version": "1.5.0",
          "model_name": "DescriptionStyleModel",
          "state": {
            "_model_module": "@jupyter-widgets/controls",
            "_model_module_version": "1.5.0",
            "_model_name": "DescriptionStyleModel",
            "_view_count": null,
            "_view_module": "@jupyter-widgets/base",
            "_view_module_version": "1.2.0",
            "_view_name": "StyleView",
            "description_width": ""
          }
        },
        "0f53a975df5a4d049a887f0da4aa98b5": {
          "model_module": "@jupyter-widgets/controls",
          "model_module_version": "1.5.0",
          "model_name": "HBoxModel",
          "state": {
            "_dom_classes": [],
            "_model_module": "@jupyter-widgets/controls",
            "_model_module_version": "1.5.0",
            "_model_name": "HBoxModel",
            "_view_count": null,
            "_view_module": "@jupyter-widgets/controls",
            "_view_module_version": "1.5.0",
            "_view_name": "HBoxView",
            "box_style": "",
            "children": [
              "IPY_MODEL_ce4a8c694ad647a2bde05f419d3cd14a",
              "IPY_MODEL_b16a79566d6d404a9f63d90aee332a17",
              "IPY_MODEL_5fb4e42bd9e34288b06b42f3e6d92b74"
            ],
            "layout": "IPY_MODEL_2444cf1a09f14de79b19e3eb626a8c2f"
          }
        },
        "135074fdd30b4cb3b136cf4b5d2b5a34": {
          "model_module": "@jupyter-widgets/controls",
          "model_module_version": "1.5.0",
          "model_name": "HBoxModel",
          "state": {
            "_dom_classes": [],
            "_model_module": "@jupyter-widgets/controls",
            "_model_module_version": "1.5.0",
            "_model_name": "HBoxModel",
            "_view_count": null,
            "_view_module": "@jupyter-widgets/controls",
            "_view_module_version": "1.5.0",
            "_view_name": "HBoxView",
            "box_style": "",
            "children": [
              "IPY_MODEL_c4f11b921ac74709b40fa5b88b937bcd",
              "IPY_MODEL_fb5d037f97854ce29b690874669bd64b",
              "IPY_MODEL_589081ca05c741dda7db6ea5346a516b"
            ],
            "layout": "IPY_MODEL_8fa43e1c63784d6388be652d00cc4ec5"
          }
        },
        "1b3d7e4b28f648f191f65073d012c7d1": {
          "model_module": "@jupyter-widgets/controls",
          "model_module_version": "1.5.0",
          "model_name": "ProgressStyleModel",
          "state": {
            "_model_module": "@jupyter-widgets/controls",
            "_model_module_version": "1.5.0",
            "_model_name": "ProgressStyleModel",
            "_view_count": null,
            "_view_module": "@jupyter-widgets/base",
            "_view_module_version": "1.2.0",
            "_view_name": "StyleView",
            "bar_color": null,
            "description_width": ""
          }
        },
        "1df920340c254b1eb27d84140361e125": {
          "model_module": "@jupyter-widgets/controls",
          "model_module_version": "1.5.0",
          "model_name": "HBoxModel",
          "state": {
            "_dom_classes": [],
            "_model_module": "@jupyter-widgets/controls",
            "_model_module_version": "1.5.0",
            "_model_name": "HBoxModel",
            "_view_count": null,
            "_view_module": "@jupyter-widgets/controls",
            "_view_module_version": "1.5.0",
            "_view_name": "HBoxView",
            "box_style": "",
            "children": [
              "IPY_MODEL_2a2f345bae5047668a165a1c69c7e90a",
              "IPY_MODEL_a7186da250b841f7bb9b2625b62bc5e3",
              "IPY_MODEL_312df5cc585245518b72529a4e8e804c"
            ],
            "layout": "IPY_MODEL_6e1a3a27cac244639a79347b7d2405fe"
          }
        },
        "1ecf7b963b8740d982fcd96d52bcba51": {
          "model_module": "@jupyter-widgets/base",
          "model_module_version": "1.2.0",
          "model_name": "LayoutModel",
          "state": {
            "_model_module": "@jupyter-widgets/base",
            "_model_module_version": "1.2.0",
            "_model_name": "LayoutModel",
            "_view_count": null,
            "_view_module": "@jupyter-widgets/base",
            "_view_module_version": "1.2.0",
            "_view_name": "LayoutView",
            "align_content": null,
            "align_items": null,
            "align_self": null,
            "border": null,
            "bottom": null,
            "display": null,
            "flex": null,
            "flex_flow": null,
            "grid_area": null,
            "grid_auto_columns": null,
            "grid_auto_flow": null,
            "grid_auto_rows": null,
            "grid_column": null,
            "grid_gap": null,
            "grid_row": null,
            "grid_template_areas": null,
            "grid_template_columns": null,
            "grid_template_rows": null,
            "height": null,
            "justify_content": null,
            "justify_items": null,
            "left": null,
            "margin": null,
            "max_height": null,
            "max_width": null,
            "min_height": null,
            "min_width": null,
            "object_fit": null,
            "object_position": null,
            "order": null,
            "overflow": null,
            "overflow_x": null,
            "overflow_y": null,
            "padding": null,
            "right": null,
            "top": null,
            "visibility": null,
            "width": null
          }
        },
        "2444cf1a09f14de79b19e3eb626a8c2f": {
          "model_module": "@jupyter-widgets/base",
          "model_module_version": "1.2.0",
          "model_name": "LayoutModel",
          "state": {
            "_model_module": "@jupyter-widgets/base",
            "_model_module_version": "1.2.0",
            "_model_name": "LayoutModel",
            "_view_count": null,
            "_view_module": "@jupyter-widgets/base",
            "_view_module_version": "1.2.0",
            "_view_name": "LayoutView",
            "align_content": null,
            "align_items": null,
            "align_self": null,
            "border": null,
            "bottom": null,
            "display": null,
            "flex": null,
            "flex_flow": null,
            "grid_area": null,
            "grid_auto_columns": null,
            "grid_auto_flow": null,
            "grid_auto_rows": null,
            "grid_column": null,
            "grid_gap": null,
            "grid_row": null,
            "grid_template_areas": null,
            "grid_template_columns": null,
            "grid_template_rows": null,
            "height": null,
            "justify_content": null,
            "justify_items": null,
            "left": null,
            "margin": null,
            "max_height": null,
            "max_width": null,
            "min_height": null,
            "min_width": null,
            "object_fit": null,
            "object_position": null,
            "order": null,
            "overflow": null,
            "overflow_x": null,
            "overflow_y": null,
            "padding": null,
            "right": null,
            "top": null,
            "visibility": null,
            "width": null
          }
        },
        "2a2f345bae5047668a165a1c69c7e90a": {
          "model_module": "@jupyter-widgets/controls",
          "model_module_version": "1.5.0",
          "model_name": "HTMLModel",
          "state": {
            "_dom_classes": [],
            "_model_module": "@jupyter-widgets/controls",
            "_model_module_version": "1.5.0",
            "_model_name": "HTMLModel",
            "_view_count": null,
            "_view_module": "@jupyter-widgets/controls",
            "_view_module_version": "1.5.0",
            "_view_name": "HTMLView",
            "description": "",
            "description_tooltip": null,
            "layout": "IPY_MODEL_3b00397d4b9749d8b628b66e817c3035",
            "placeholder": "​",
            "style": "IPY_MODEL_b0420f66220b44cc8c2ca43cfdf60814",
            "value": "model.safetensors: 100%"
          }
        },
        "312df5cc585245518b72529a4e8e804c": {
          "model_module": "@jupyter-widgets/controls",
          "model_module_version": "1.5.0",
          "model_name": "HTMLModel",
          "state": {
            "_dom_classes": [],
            "_model_module": "@jupyter-widgets/controls",
            "_model_module_version": "1.5.0",
            "_model_name": "HTMLModel",
            "_view_count": null,
            "_view_module": "@jupyter-widgets/controls",
            "_view_module_version": "1.5.0",
            "_view_name": "HTMLView",
            "description": "",
            "description_tooltip": null,
            "layout": "IPY_MODEL_bc8c95e55755424e81b8d7092b82d822",
            "placeholder": "​",
            "style": "IPY_MODEL_0f52601f56ee449e9cabfa4462469a42",
            "value": " 599M/599M [00:02&lt;00:00, 257MB/s]"
          }
        },
        "3b00397d4b9749d8b628b66e817c3035": {
          "model_module": "@jupyter-widgets/base",
          "model_module_version": "1.2.0",
          "model_name": "LayoutModel",
          "state": {
            "_model_module": "@jupyter-widgets/base",
            "_model_module_version": "1.2.0",
            "_model_name": "LayoutModel",
            "_view_count": null,
            "_view_module": "@jupyter-widgets/base",
            "_view_module_version": "1.2.0",
            "_view_name": "LayoutView",
            "align_content": null,
            "align_items": null,
            "align_self": null,
            "border": null,
            "bottom": null,
            "display": null,
            "flex": null,
            "flex_flow": null,
            "grid_area": null,
            "grid_auto_columns": null,
            "grid_auto_flow": null,
            "grid_auto_rows": null,
            "grid_column": null,
            "grid_gap": null,
            "grid_row": null,
            "grid_template_areas": null,
            "grid_template_columns": null,
            "grid_template_rows": null,
            "height": null,
            "justify_content": null,
            "justify_items": null,
            "left": null,
            "margin": null,
            "max_height": null,
            "max_width": null,
            "min_height": null,
            "min_width": null,
            "object_fit": null,
            "object_position": null,
            "order": null,
            "overflow": null,
            "overflow_x": null,
            "overflow_y": null,
            "padding": null,
            "right": null,
            "top": null,
            "visibility": null,
            "width": null
          }
        },
        "4055b5bab2fa4fedb2de6144eba6fc6c": {
          "model_module": "@jupyter-widgets/controls",
          "model_module_version": "1.5.0",
          "model_name": "FloatProgressModel",
          "state": {
            "_dom_classes": [],
            "_model_module": "@jupyter-widgets/controls",
            "_model_module_version": "1.5.0",
            "_model_name": "FloatProgressModel",
            "_view_count": null,
            "_view_module": "@jupyter-widgets/controls",
            "_view_module_version": "1.5.0",
            "_view_name": "ProgressView",
            "bar_style": "success",
            "description": "",
            "description_tooltip": null,
            "layout": "IPY_MODEL_a0b6d43668aa46eaaf71a33b473797e7",
            "max": 20810,
            "min": 0,
            "orientation": "horizontal",
            "style": "IPY_MODEL_4d69f3c5b261409e87fee53eae40a90a",
            "value": 20810
          }
        },
        "49a8032436024cbeb94047f4d59f3422": {
          "model_module": "@jupyter-widgets/base",
          "model_module_version": "1.2.0",
          "model_name": "LayoutModel",
          "state": {
            "_model_module": "@jupyter-widgets/base",
            "_model_module_version": "1.2.0",
            "_model_name": "LayoutModel",
            "_view_count": null,
            "_view_module": "@jupyter-widgets/base",
            "_view_module_version": "1.2.0",
            "_view_name": "LayoutView",
            "align_content": null,
            "align_items": null,
            "align_self": null,
            "border": null,
            "bottom": null,
            "display": null,
            "flex": null,
            "flex_flow": null,
            "grid_area": null,
            "grid_auto_columns": null,
            "grid_auto_flow": null,
            "grid_auto_rows": null,
            "grid_column": null,
            "grid_gap": null,
            "grid_row": null,
            "grid_template_areas": null,
            "grid_template_columns": null,
            "grid_template_rows": null,
            "height": null,
            "justify_content": null,
            "justify_items": null,
            "left": null,
            "margin": null,
            "max_height": null,
            "max_width": null,
            "min_height": null,
            "min_width": null,
            "object_fit": null,
            "object_position": null,
            "order": null,
            "overflow": null,
            "overflow_x": null,
            "overflow_y": null,
            "padding": null,
            "right": null,
            "top": null,
            "visibility": null,
            "width": null
          }
        },
        "4d69f3c5b261409e87fee53eae40a90a": {
          "model_module": "@jupyter-widgets/controls",
          "model_module_version": "1.5.0",
          "model_name": "ProgressStyleModel",
          "state": {
            "_model_module": "@jupyter-widgets/controls",
            "_model_module_version": "1.5.0",
            "_model_name": "ProgressStyleModel",
            "_view_count": null,
            "_view_module": "@jupyter-widgets/base",
            "_view_module_version": "1.2.0",
            "_view_name": "StyleView",
            "bar_color": null,
            "description_width": ""
          }
        },
        "4e9c74618edb4033bf9c674469f13be9": {
          "model_module": "@jupyter-widgets/controls",
          "model_module_version": "1.5.0",
          "model_name": "DescriptionStyleModel",
          "state": {
            "_model_module": "@jupyter-widgets/controls",
            "_model_module_version": "1.5.0",
            "_model_name": "DescriptionStyleModel",
            "_view_count": null,
            "_view_module": "@jupyter-widgets/base",
            "_view_module_version": "1.2.0",
            "_view_name": "StyleView",
            "description_width": ""
          }
        },
        "57c20703174044cd8dc4d2067e3f47e5": {
          "model_module": "@jupyter-widgets/controls",
          "model_module_version": "1.5.0",
          "model_name": "ProgressStyleModel",
          "state": {
            "_model_module": "@jupyter-widgets/controls",
            "_model_module_version": "1.5.0",
            "_model_name": "ProgressStyleModel",
            "_view_count": null,
            "_view_module": "@jupyter-widgets/base",
            "_view_module_version": "1.2.0",
            "_view_name": "StyleView",
            "bar_color": null,
            "description_width": ""
          }
        },
        "589081ca05c741dda7db6ea5346a516b": {
          "model_module": "@jupyter-widgets/controls",
          "model_module_version": "1.5.0",
          "model_name": "HTMLModel",
          "state": {
            "_dom_classes": [],
            "_model_module": "@jupyter-widgets/controls",
            "_model_module_version": "1.5.0",
            "_model_name": "HTMLModel",
            "_view_count": null,
            "_view_module": "@jupyter-widgets/controls",
            "_view_module_version": "1.5.0",
            "_view_name": "HTMLView",
            "description": "",
            "description_tooltip": null,
            "layout": "IPY_MODEL_644cd17d136345a3afce04f00c1c1769",
            "placeholder": "​",
            "style": "IPY_MODEL_70131d72946647ef8cce5d898fcd449a",
            "value": " 2.13M/2.13M [00:00&lt;00:00, 15.0MB/s]"
          }
        },
        "5fb4e42bd9e34288b06b42f3e6d92b74": {
          "model_module": "@jupyter-widgets/controls",
          "model_module_version": "1.5.0",
          "model_name": "HTMLModel",
          "state": {
            "_dom_classes": [],
            "_model_module": "@jupyter-widgets/controls",
            "_model_module_version": "1.5.0",
            "_model_name": "HTMLModel",
            "_view_count": null,
            "_view_module": "@jupyter-widgets/controls",
            "_view_module_version": "1.5.0",
            "_view_name": "HTMLView",
            "description": "",
            "description_tooltip": null,
            "layout": "IPY_MODEL_bff047ebeb5c4afabc1e3fa9e3d47b48",
            "placeholder": "​",
            "style": "IPY_MODEL_d54a1478a38143a1aa0f87a23404ad83",
            "value": " 1.19k/1.19k [00:00&lt;00:00, 158kB/s]"
          }
        },
        "644cd17d136345a3afce04f00c1c1769": {
          "model_module": "@jupyter-widgets/base",
          "model_module_version": "1.2.0",
          "model_name": "LayoutModel",
          "state": {
            "_model_module": "@jupyter-widgets/base",
            "_model_module_version": "1.2.0",
            "_model_name": "LayoutModel",
            "_view_count": null,
            "_view_module": "@jupyter-widgets/base",
            "_view_module_version": "1.2.0",
            "_view_name": "LayoutView",
            "align_content": null,
            "align_items": null,
            "align_self": null,
            "border": null,
            "bottom": null,
            "display": null,
            "flex": null,
            "flex_flow": null,
            "grid_area": null,
            "grid_auto_columns": null,
            "grid_auto_flow": null,
            "grid_auto_rows": null,
            "grid_column": null,
            "grid_gap": null,
            "grid_row": null,
            "grid_template_areas": null,
            "grid_template_columns": null,
            "grid_template_rows": null,
            "height": null,
            "justify_content": null,
            "justify_items": null,
            "left": null,
            "margin": null,
            "max_height": null,
            "max_width": null,
            "min_height": null,
            "min_width": null,
            "object_fit": null,
            "object_position": null,
            "order": null,
            "overflow": null,
            "overflow_x": null,
            "overflow_y": null,
            "padding": null,
            "right": null,
            "top": null,
            "visibility": null,
            "width": null
          }
        },
        "6e1a3a27cac244639a79347b7d2405fe": {
          "model_module": "@jupyter-widgets/base",
          "model_module_version": "1.2.0",
          "model_name": "LayoutModel",
          "state": {
            "_model_module": "@jupyter-widgets/base",
            "_model_module_version": "1.2.0",
            "_model_name": "LayoutModel",
            "_view_count": null,
            "_view_module": "@jupyter-widgets/base",
            "_view_module_version": "1.2.0",
            "_view_name": "LayoutView",
            "align_content": null,
            "align_items": null,
            "align_self": null,
            "border": null,
            "bottom": null,
            "display": null,
            "flex": null,
            "flex_flow": null,
            "grid_area": null,
            "grid_auto_columns": null,
            "grid_auto_flow": null,
            "grid_auto_rows": null,
            "grid_column": null,
            "grid_gap": null,
            "grid_row": null,
            "grid_template_areas": null,
            "grid_template_columns": null,
            "grid_template_rows": null,
            "height": null,
            "justify_content": null,
            "justify_items": null,
            "left": null,
            "margin": null,
            "max_height": null,
            "max_width": null,
            "min_height": null,
            "min_width": null,
            "object_fit": null,
            "object_position": null,
            "order": null,
            "overflow": null,
            "overflow_x": null,
            "overflow_y": null,
            "padding": null,
            "right": null,
            "top": null,
            "visibility": null,
            "width": null
          }
        },
        "70131d72946647ef8cce5d898fcd449a": {
          "model_module": "@jupyter-widgets/controls",
          "model_module_version": "1.5.0",
          "model_name": "DescriptionStyleModel",
          "state": {
            "_model_module": "@jupyter-widgets/controls",
            "_model_module_version": "1.5.0",
            "_model_name": "DescriptionStyleModel",
            "_view_count": null,
            "_view_module": "@jupyter-widgets/base",
            "_view_module_version": "1.2.0",
            "_view_name": "StyleView",
            "description_width": ""
          }
        },
        "7b2c3f75dd4b43198d5d1819206fa4dc": {
          "model_module": "@jupyter-widgets/controls",
          "model_module_version": "1.5.0",
          "model_name": "HTMLModel",
          "state": {
            "_dom_classes": [],
            "_model_module": "@jupyter-widgets/controls",
            "_model_module_version": "1.5.0",
            "_model_name": "HTMLModel",
            "_view_count": null,
            "_view_module": "@jupyter-widgets/controls",
            "_view_module_version": "1.5.0",
            "_view_name": "HTMLView",
            "description": "",
            "description_tooltip": null,
            "layout": "IPY_MODEL_85a11380b76f42529eed42b868ce3532",
            "placeholder": "​",
            "style": "IPY_MODEL_f54e9cef9cf8465e80201163a6599a8a",
            "value": " 694/694 [00:00&lt;00:00, 93.2kB/s]"
          }
        },
        "80ec37cb58334333ab3542a627270113": {
          "model_module": "@jupyter-widgets/base",
          "model_module_version": "1.2.0",
          "model_name": "LayoutModel",
          "state": {
            "_model_module": "@jupyter-widgets/base",
            "_model_module_version": "1.2.0",
            "_model_name": "LayoutModel",
            "_view_count": null,
            "_view_module": "@jupyter-widgets/base",
            "_view_module_version": "1.2.0",
            "_view_name": "LayoutView",
            "align_content": null,
            "align_items": null,
            "align_self": null,
            "border": null,
            "bottom": null,
            "display": null,
            "flex": null,
            "flex_flow": null,
            "grid_area": null,
            "grid_auto_columns": null,
            "grid_auto_flow": null,
            "grid_auto_rows": null,
            "grid_column": null,
            "grid_gap": null,
            "grid_row": null,
            "grid_template_areas": null,
            "grid_template_columns": null,
            "grid_template_rows": null,
            "height": null,
            "justify_content": null,
            "justify_items": null,
            "left": null,
            "margin": null,
            "max_height": null,
            "max_width": null,
            "min_height": null,
            "min_width": null,
            "object_fit": null,
            "object_position": null,
            "order": null,
            "overflow": null,
            "overflow_x": null,
            "overflow_y": null,
            "padding": null,
            "right": null,
            "top": null,
            "visibility": null,
            "width": null
          }
        },
        "8237f316021142269ba6808cf5134626": {
          "model_module": "@jupyter-widgets/base",
          "model_module_version": "1.2.0",
          "model_name": "LayoutModel",
          "state": {
            "_model_module": "@jupyter-widgets/base",
            "_model_module_version": "1.2.0",
            "_model_name": "LayoutModel",
            "_view_count": null,
            "_view_module": "@jupyter-widgets/base",
            "_view_module_version": "1.2.0",
            "_view_name": "LayoutView",
            "align_content": null,
            "align_items": null,
            "align_self": null,
            "border": null,
            "bottom": null,
            "display": null,
            "flex": null,
            "flex_flow": null,
            "grid_area": null,
            "grid_auto_columns": null,
            "grid_auto_flow": null,
            "grid_auto_rows": null,
            "grid_column": null,
            "grid_gap": null,
            "grid_row": null,
            "grid_template_areas": null,
            "grid_template_columns": null,
            "grid_template_rows": null,
            "height": null,
            "justify_content": null,
            "justify_items": null,
            "left": null,
            "margin": null,
            "max_height": null,
            "max_width": null,
            "min_height": null,
            "min_width": null,
            "object_fit": null,
            "object_position": null,
            "order": null,
            "overflow": null,
            "overflow_x": null,
            "overflow_y": null,
            "padding": null,
            "right": null,
            "top": null,
            "visibility": null,
            "width": null
          }
        },
        "84665a718ed641799a857fef96603261": {
          "model_module": "@jupyter-widgets/controls",
          "model_module_version": "1.5.0",
          "model_name": "HTMLModel",
          "state": {
            "_dom_classes": [],
            "_model_module": "@jupyter-widgets/controls",
            "_model_module_version": "1.5.0",
            "_model_name": "HTMLModel",
            "_view_count": null,
            "_view_module": "@jupyter-widgets/controls",
            "_view_module_version": "1.5.0",
            "_view_name": "HTMLView",
            "description": "",
            "description_tooltip": null,
            "layout": "IPY_MODEL_49a8032436024cbeb94047f4d59f3422",
            "placeholder": "​",
            "style": "IPY_MODEL_cebd49978aca4bd1b1f099c39ac29873",
            "value": " 20.8k/20.8k [00:00&lt;00:00, 2.69MB/s]"
          }
        },
        "85a11380b76f42529eed42b868ce3532": {
          "model_module": "@jupyter-widgets/base",
          "model_module_version": "1.2.0",
          "model_name": "LayoutModel",
          "state": {
            "_model_module": "@jupyter-widgets/base",
            "_model_module_version": "1.2.0",
            "_model_name": "LayoutModel",
            "_view_count": null,
            "_view_module": "@jupyter-widgets/base",
            "_view_module_version": "1.2.0",
            "_view_name": "LayoutView",
            "align_content": null,
            "align_items": null,
            "align_self": null,
            "border": null,
            "bottom": null,
            "display": null,
            "flex": null,
            "flex_flow": null,
            "grid_area": null,
            "grid_auto_columns": null,
            "grid_auto_flow": null,
            "grid_auto_rows": null,
            "grid_column": null,
            "grid_gap": null,
            "grid_row": null,
            "grid_template_areas": null,
            "grid_template_columns": null,
            "grid_template_rows": null,
            "height": null,
            "justify_content": null,
            "justify_items": null,
            "left": null,
            "margin": null,
            "max_height": null,
            "max_width": null,
            "min_height": null,
            "min_width": null,
            "object_fit": null,
            "object_position": null,
            "order": null,
            "overflow": null,
            "overflow_x": null,
            "overflow_y": null,
            "padding": null,
            "right": null,
            "top": null,
            "visibility": null,
            "width": null
          }
        },
        "8fa43e1c63784d6388be652d00cc4ec5": {
          "model_module": "@jupyter-widgets/base",
          "model_module_version": "1.2.0",
          "model_name": "LayoutModel",
          "state": {
            "_model_module": "@jupyter-widgets/base",
            "_model_module_version": "1.2.0",
            "_model_name": "LayoutModel",
            "_view_count": null,
            "_view_module": "@jupyter-widgets/base",
            "_view_module_version": "1.2.0",
            "_view_name": "LayoutView",
            "align_content": null,
            "align_items": null,
            "align_self": null,
            "border": null,
            "bottom": null,
            "display": null,
            "flex": null,
            "flex_flow": null,
            "grid_area": null,
            "grid_auto_columns": null,
            "grid_auto_flow": null,
            "grid_auto_rows": null,
            "grid_column": null,
            "grid_gap": null,
            "grid_row": null,
            "grid_template_areas": null,
            "grid_template_columns": null,
            "grid_template_rows": null,
            "height": null,
            "justify_content": null,
            "justify_items": null,
            "left": null,
            "margin": null,
            "max_height": null,
            "max_width": null,
            "min_height": null,
            "min_width": null,
            "object_fit": null,
            "object_position": null,
            "order": null,
            "overflow": null,
            "overflow_x": null,
            "overflow_y": null,
            "padding": null,
            "right": null,
            "top": null,
            "visibility": null,
            "width": null
          }
        },
        "94cad8b51f764cb2a20064ec06f7c0dc": {
          "model_module": "@jupyter-widgets/controls",
          "model_module_version": "1.5.0",
          "model_name": "HTMLModel",
          "state": {
            "_dom_classes": [],
            "_model_module": "@jupyter-widgets/controls",
            "_model_module_version": "1.5.0",
            "_model_name": "HTMLModel",
            "_view_count": null,
            "_view_module": "@jupyter-widgets/controls",
            "_view_module_version": "1.5.0",
            "_view_name": "HTMLView",
            "description": "",
            "description_tooltip": null,
            "layout": "IPY_MODEL_024fca323d1f47f982cd91d6bf10d561",
            "placeholder": "​",
            "style": "IPY_MODEL_a5fe653c493b45aab15c3e476945522d",
            "value": "special_tokens_map.json: 100%"
          }
        },
        "95dc25f192fd4b81957d9e10c8403f6c": {
          "model_module": "@jupyter-widgets/base",
          "model_module_version": "1.2.0",
          "model_name": "LayoutModel",
          "state": {
            "_model_module": "@jupyter-widgets/base",
            "_model_module_version": "1.2.0",
            "_model_name": "LayoutModel",
            "_view_count": null,
            "_view_module": "@jupyter-widgets/base",
            "_view_module_version": "1.2.0",
            "_view_name": "LayoutView",
            "align_content": null,
            "align_items": null,
            "align_self": null,
            "border": null,
            "bottom": null,
            "display": null,
            "flex": null,
            "flex_flow": null,
            "grid_area": null,
            "grid_auto_columns": null,
            "grid_auto_flow": null,
            "grid_auto_rows": null,
            "grid_column": null,
            "grid_gap": null,
            "grid_row": null,
            "grid_template_areas": null,
            "grid_template_columns": null,
            "grid_template_rows": null,
            "height": null,
            "justify_content": null,
            "justify_items": null,
            "left": null,
            "margin": null,
            "max_height": null,
            "max_width": null,
            "min_height": null,
            "min_width": null,
            "object_fit": null,
            "object_position": null,
            "order": null,
            "overflow": null,
            "overflow_x": null,
            "overflow_y": null,
            "padding": null,
            "right": null,
            "top": null,
            "visibility": null,
            "width": null
          }
        },
        "9898baa347df4856a2a1563420c70eb7": {
          "model_module": "@jupyter-widgets/base",
          "model_module_version": "1.2.0",
          "model_name": "LayoutModel",
          "state": {
            "_model_module": "@jupyter-widgets/base",
            "_model_module_version": "1.2.0",
            "_model_name": "LayoutModel",
            "_view_count": null,
            "_view_module": "@jupyter-widgets/base",
            "_view_module_version": "1.2.0",
            "_view_name": "LayoutView",
            "align_content": null,
            "align_items": null,
            "align_self": null,
            "border": null,
            "bottom": null,
            "display": null,
            "flex": null,
            "flex_flow": null,
            "grid_area": null,
            "grid_auto_columns": null,
            "grid_auto_flow": null,
            "grid_auto_rows": null,
            "grid_column": null,
            "grid_gap": null,
            "grid_row": null,
            "grid_template_areas": null,
            "grid_template_columns": null,
            "grid_template_rows": null,
            "height": null,
            "justify_content": null,
            "justify_items": null,
            "left": null,
            "margin": null,
            "max_height": null,
            "max_width": null,
            "min_height": null,
            "min_width": null,
            "object_fit": null,
            "object_position": null,
            "order": null,
            "overflow": null,
            "overflow_x": null,
            "overflow_y": null,
            "padding": null,
            "right": null,
            "top": null,
            "visibility": null,
            "width": null
          }
        },
        "9a2d728d2362483e897850f327402858": {
          "model_module": "@jupyter-widgets/controls",
          "model_module_version": "1.5.0",
          "model_name": "HBoxModel",
          "state": {
            "_dom_classes": [],
            "_model_module": "@jupyter-widgets/controls",
            "_model_module_version": "1.5.0",
            "_model_name": "HBoxModel",
            "_view_count": null,
            "_view_module": "@jupyter-widgets/controls",
            "_view_module_version": "1.5.0",
            "_view_name": "HBoxView",
            "box_style": "",
            "children": [
              "IPY_MODEL_94cad8b51f764cb2a20064ec06f7c0dc",
              "IPY_MODEL_066acf1fea7d41b9bbec11f71899ebac",
              "IPY_MODEL_7b2c3f75dd4b43198d5d1819206fa4dc"
            ],
            "layout": "IPY_MODEL_9898baa347df4856a2a1563420c70eb7"
          }
        },
        "9e0f340e63584186bc7a9d22f1b23fc5": {
          "model_module": "@jupyter-widgets/controls",
          "model_module_version": "1.5.0",
          "model_name": "DescriptionStyleModel",
          "state": {
            "_model_module": "@jupyter-widgets/controls",
            "_model_module_version": "1.5.0",
            "_model_name": "DescriptionStyleModel",
            "_view_count": null,
            "_view_module": "@jupyter-widgets/base",
            "_view_module_version": "1.2.0",
            "_view_name": "StyleView",
            "description_width": ""
          }
        },
        "a0b6d43668aa46eaaf71a33b473797e7": {
          "model_module": "@jupyter-widgets/base",
          "model_module_version": "1.2.0",
          "model_name": "LayoutModel",
          "state": {
            "_model_module": "@jupyter-widgets/base",
            "_model_module_version": "1.2.0",
            "_model_name": "LayoutModel",
            "_view_count": null,
            "_view_module": "@jupyter-widgets/base",
            "_view_module_version": "1.2.0",
            "_view_name": "LayoutView",
            "align_content": null,
            "align_items": null,
            "align_self": null,
            "border": null,
            "bottom": null,
            "display": null,
            "flex": null,
            "flex_flow": null,
            "grid_area": null,
            "grid_auto_columns": null,
            "grid_auto_flow": null,
            "grid_auto_rows": null,
            "grid_column": null,
            "grid_gap": null,
            "grid_row": null,
            "grid_template_areas": null,
            "grid_template_columns": null,
            "grid_template_rows": null,
            "height": null,
            "justify_content": null,
            "justify_items": null,
            "left": null,
            "margin": null,
            "max_height": null,
            "max_width": null,
            "min_height": null,
            "min_width": null,
            "object_fit": null,
            "object_position": null,
            "order": null,
            "overflow": null,
            "overflow_x": null,
            "overflow_y": null,
            "padding": null,
            "right": null,
            "top": null,
            "visibility": null,
            "width": null
          }
        },
        "a3ec089cd6bb47c1804ae25f8451758c": {
          "model_module": "@jupyter-widgets/base",
          "model_module_version": "1.2.0",
          "model_name": "LayoutModel",
          "state": {
            "_model_module": "@jupyter-widgets/base",
            "_model_module_version": "1.2.0",
            "_model_name": "LayoutModel",
            "_view_count": null,
            "_view_module": "@jupyter-widgets/base",
            "_view_module_version": "1.2.0",
            "_view_name": "LayoutView",
            "align_content": null,
            "align_items": null,
            "align_self": null,
            "border": null,
            "bottom": null,
            "display": null,
            "flex": null,
            "flex_flow": null,
            "grid_area": null,
            "grid_auto_columns": null,
            "grid_auto_flow": null,
            "grid_auto_rows": null,
            "grid_column": null,
            "grid_gap": null,
            "grid_row": null,
            "grid_template_areas": null,
            "grid_template_columns": null,
            "grid_template_rows": null,
            "height": null,
            "justify_content": null,
            "justify_items": null,
            "left": null,
            "margin": null,
            "max_height": null,
            "max_width": null,
            "min_height": null,
            "min_width": null,
            "object_fit": null,
            "object_position": null,
            "order": null,
            "overflow": null,
            "overflow_x": null,
            "overflow_y": null,
            "padding": null,
            "right": null,
            "top": null,
            "visibility": null,
            "width": null
          }
        },
        "a5fe653c493b45aab15c3e476945522d": {
          "model_module": "@jupyter-widgets/controls",
          "model_module_version": "1.5.0",
          "model_name": "DescriptionStyleModel",
          "state": {
            "_model_module": "@jupyter-widgets/controls",
            "_model_module_version": "1.5.0",
            "_model_name": "DescriptionStyleModel",
            "_view_count": null,
            "_view_module": "@jupyter-widgets/base",
            "_view_module_version": "1.2.0",
            "_view_name": "StyleView",
            "description_width": ""
          }
        },
        "a7186da250b841f7bb9b2625b62bc5e3": {
          "model_module": "@jupyter-widgets/controls",
          "model_module_version": "1.5.0",
          "model_name": "FloatProgressModel",
          "state": {
            "_dom_classes": [],
            "_model_module": "@jupyter-widgets/controls",
            "_model_module_version": "1.5.0",
            "_model_name": "FloatProgressModel",
            "_view_count": null,
            "_view_module": "@jupyter-widgets/controls",
            "_view_module_version": "1.5.0",
            "_view_name": "ProgressView",
            "bar_style": "success",
            "description": "",
            "description_tooltip": null,
            "layout": "IPY_MODEL_8237f316021142269ba6808cf5134626",
            "max": 598635032,
            "min": 0,
            "orientation": "horizontal",
            "style": "IPY_MODEL_57c20703174044cd8dc4d2067e3f47e5",
            "value": 598635032
          }
        },
        "a82582aac3bd4ef4ad4edd94ad3d88b0": {
          "model_module": "@jupyter-widgets/base",
          "model_module_version": "1.2.0",
          "model_name": "LayoutModel",
          "state": {
            "_model_module": "@jupyter-widgets/base",
            "_model_module_version": "1.2.0",
            "_model_name": "LayoutModel",
            "_view_count": null,
            "_view_module": "@jupyter-widgets/base",
            "_view_module_version": "1.2.0",
            "_view_name": "LayoutView",
            "align_content": null,
            "align_items": null,
            "align_self": null,
            "border": null,
            "bottom": null,
            "display": null,
            "flex": null,
            "flex_flow": null,
            "grid_area": null,
            "grid_auto_columns": null,
            "grid_auto_flow": null,
            "grid_auto_rows": null,
            "grid_column": null,
            "grid_gap": null,
            "grid_row": null,
            "grid_template_areas": null,
            "grid_template_columns": null,
            "grid_template_rows": null,
            "height": null,
            "justify_content": null,
            "justify_items": null,
            "left": null,
            "margin": null,
            "max_height": null,
            "max_width": null,
            "min_height": null,
            "min_width": null,
            "object_fit": null,
            "object_position": null,
            "order": null,
            "overflow": null,
            "overflow_x": null,
            "overflow_y": null,
            "padding": null,
            "right": null,
            "top": null,
            "visibility": null,
            "width": null
          }
        },
        "b0420f66220b44cc8c2ca43cfdf60814": {
          "model_module": "@jupyter-widgets/controls",
          "model_module_version": "1.5.0",
          "model_name": "DescriptionStyleModel",
          "state": {
            "_model_module": "@jupyter-widgets/controls",
            "_model_module_version": "1.5.0",
            "_model_name": "DescriptionStyleModel",
            "_view_count": null,
            "_view_module": "@jupyter-widgets/base",
            "_view_module_version": "1.2.0",
            "_view_name": "StyleView",
            "description_width": ""
          }
        },
        "b16a79566d6d404a9f63d90aee332a17": {
          "model_module": "@jupyter-widgets/controls",
          "model_module_version": "1.5.0",
          "model_name": "FloatProgressModel",
          "state": {
            "_dom_classes": [],
            "_model_module": "@jupyter-widgets/controls",
            "_model_module_version": "1.5.0",
            "_model_name": "FloatProgressModel",
            "_view_count": null,
            "_view_module": "@jupyter-widgets/controls",
            "_view_module_version": "1.5.0",
            "_view_name": "ProgressView",
            "bar_style": "success",
            "description": "",
            "description_tooltip": null,
            "layout": "IPY_MODEL_95dc25f192fd4b81957d9e10c8403f6c",
            "max": 1193,
            "min": 0,
            "orientation": "horizontal",
            "style": "IPY_MODEL_ce1e02f310084ec7997819a2bf691e75",
            "value": 1193
          }
        },
        "bc8c95e55755424e81b8d7092b82d822": {
          "model_module": "@jupyter-widgets/base",
          "model_module_version": "1.2.0",
          "model_name": "LayoutModel",
          "state": {
            "_model_module": "@jupyter-widgets/base",
            "_model_module_version": "1.2.0",
            "_model_name": "LayoutModel",
            "_view_count": null,
            "_view_module": "@jupyter-widgets/base",
            "_view_module_version": "1.2.0",
            "_view_name": "LayoutView",
            "align_content": null,
            "align_items": null,
            "align_self": null,
            "border": null,
            "bottom": null,
            "display": null,
            "flex": null,
            "flex_flow": null,
            "grid_area": null,
            "grid_auto_columns": null,
            "grid_auto_flow": null,
            "grid_auto_rows": null,
            "grid_column": null,
            "grid_gap": null,
            "grid_row": null,
            "grid_template_areas": null,
            "grid_template_columns": null,
            "grid_template_rows": null,
            "height": null,
            "justify_content": null,
            "justify_items": null,
            "left": null,
            "margin": null,
            "max_height": null,
            "max_width": null,
            "min_height": null,
            "min_width": null,
            "object_fit": null,
            "object_position": null,
            "order": null,
            "overflow": null,
            "overflow_x": null,
            "overflow_y": null,
            "padding": null,
            "right": null,
            "top": null,
            "visibility": null,
            "width": null
          }
        },
        "bcf61ba19aff4489b96d1f4f5ecbf70f": {
          "model_module": "@jupyter-widgets/base",
          "model_module_version": "1.2.0",
          "model_name": "LayoutModel",
          "state": {
            "_model_module": "@jupyter-widgets/base",
            "_model_module_version": "1.2.0",
            "_model_name": "LayoutModel",
            "_view_count": null,
            "_view_module": "@jupyter-widgets/base",
            "_view_module_version": "1.2.0",
            "_view_name": "LayoutView",
            "align_content": null,
            "align_items": null,
            "align_self": null,
            "border": null,
            "bottom": null,
            "display": null,
            "flex": null,
            "flex_flow": null,
            "grid_area": null,
            "grid_auto_columns": null,
            "grid_auto_flow": null,
            "grid_auto_rows": null,
            "grid_column": null,
            "grid_gap": null,
            "grid_row": null,
            "grid_template_areas": null,
            "grid_template_columns": null,
            "grid_template_rows": null,
            "height": null,
            "justify_content": null,
            "justify_items": null,
            "left": null,
            "margin": null,
            "max_height": null,
            "max_width": null,
            "min_height": null,
            "min_width": null,
            "object_fit": null,
            "object_position": null,
            "order": null,
            "overflow": null,
            "overflow_x": null,
            "overflow_y": null,
            "padding": null,
            "right": null,
            "top": null,
            "visibility": null,
            "width": null
          }
        },
        "bff047ebeb5c4afabc1e3fa9e3d47b48": {
          "model_module": "@jupyter-widgets/base",
          "model_module_version": "1.2.0",
          "model_name": "LayoutModel",
          "state": {
            "_model_module": "@jupyter-widgets/base",
            "_model_module_version": "1.2.0",
            "_model_name": "LayoutModel",
            "_view_count": null,
            "_view_module": "@jupyter-widgets/base",
            "_view_module_version": "1.2.0",
            "_view_name": "LayoutView",
            "align_content": null,
            "align_items": null,
            "align_self": null,
            "border": null,
            "bottom": null,
            "display": null,
            "flex": null,
            "flex_flow": null,
            "grid_area": null,
            "grid_auto_columns": null,
            "grid_auto_flow": null,
            "grid_auto_rows": null,
            "grid_column": null,
            "grid_gap": null,
            "grid_row": null,
            "grid_template_areas": null,
            "grid_template_columns": null,
            "grid_template_rows": null,
            "height": null,
            "justify_content": null,
            "justify_items": null,
            "left": null,
            "margin": null,
            "max_height": null,
            "max_width": null,
            "min_height": null,
            "min_width": null,
            "object_fit": null,
            "object_position": null,
            "order": null,
            "overflow": null,
            "overflow_x": null,
            "overflow_y": null,
            "padding": null,
            "right": null,
            "top": null,
            "visibility": null,
            "width": null
          }
        },
        "c0751dce23bd407abba66ba2a7d9856a": {
          "model_module": "@jupyter-widgets/controls",
          "model_module_version": "1.5.0",
          "model_name": "DescriptionStyleModel",
          "state": {
            "_model_module": "@jupyter-widgets/controls",
            "_model_module_version": "1.5.0",
            "_model_name": "DescriptionStyleModel",
            "_view_count": null,
            "_view_module": "@jupyter-widgets/base",
            "_view_module_version": "1.2.0",
            "_view_name": "StyleView",
            "description_width": ""
          }
        },
        "c4f11b921ac74709b40fa5b88b937bcd": {
          "model_module": "@jupyter-widgets/controls",
          "model_module_version": "1.5.0",
          "model_name": "HTMLModel",
          "state": {
            "_dom_classes": [],
            "_model_module": "@jupyter-widgets/controls",
            "_model_module_version": "1.5.0",
            "_model_name": "HTMLModel",
            "_view_count": null,
            "_view_module": "@jupyter-widgets/controls",
            "_view_module_version": "1.5.0",
            "_view_name": "HTMLView",
            "description": "",
            "description_tooltip": null,
            "layout": "IPY_MODEL_80ec37cb58334333ab3542a627270113",
            "placeholder": "​",
            "style": "IPY_MODEL_c0751dce23bd407abba66ba2a7d9856a",
            "value": "tokenizer.json: 100%"
          }
        },
        "ce1e02f310084ec7997819a2bf691e75": {
          "model_module": "@jupyter-widgets/controls",
          "model_module_version": "1.5.0",
          "model_name": "ProgressStyleModel",
          "state": {
            "_model_module": "@jupyter-widgets/controls",
            "_model_module_version": "1.5.0",
            "_model_name": "ProgressStyleModel",
            "_view_count": null,
            "_view_module": "@jupyter-widgets/base",
            "_view_module_version": "1.2.0",
            "_view_name": "StyleView",
            "bar_color": null,
            "description_width": ""
          }
        },
        "ce4a8c694ad647a2bde05f419d3cd14a": {
          "model_module": "@jupyter-widgets/controls",
          "model_module_version": "1.5.0",
          "model_name": "HTMLModel",
          "state": {
            "_dom_classes": [],
            "_model_module": "@jupyter-widgets/controls",
            "_model_module_version": "1.5.0",
            "_model_name": "HTMLModel",
            "_view_count": null,
            "_view_module": "@jupyter-widgets/controls",
            "_view_module_version": "1.5.0",
            "_view_name": "HTMLView",
            "description": "",
            "description_tooltip": null,
            "layout": "IPY_MODEL_bcf61ba19aff4489b96d1f4f5ecbf70f",
            "placeholder": "​",
            "style": "IPY_MODEL_4e9c74618edb4033bf9c674469f13be9",
            "value": "config.json: 100%"
          }
        },
        "ce8380704b624e008510e30686399cbc": {
          "model_module": "@jupyter-widgets/controls",
          "model_module_version": "1.5.0",
          "model_name": "HBoxModel",
          "state": {
            "_dom_classes": [],
            "_model_module": "@jupyter-widgets/controls",
            "_model_module_version": "1.5.0",
            "_model_name": "HBoxModel",
            "_view_count": null,
            "_view_module": "@jupyter-widgets/controls",
            "_view_module_version": "1.5.0",
            "_view_name": "HBoxView",
            "box_style": "",
            "children": [
              "IPY_MODEL_06d4d9fd372b4d8e91dcbe21f5794faf",
              "IPY_MODEL_4055b5bab2fa4fedb2de6144eba6fc6c",
              "IPY_MODEL_84665a718ed641799a857fef96603261"
            ],
            "layout": "IPY_MODEL_05222f0255aa40509c03d68d9d6ee320"
          }
        },
        "cebd49978aca4bd1b1f099c39ac29873": {
          "model_module": "@jupyter-widgets/controls",
          "model_module_version": "1.5.0",
          "model_name": "DescriptionStyleModel",
          "state": {
            "_model_module": "@jupyter-widgets/controls",
            "_model_module_version": "1.5.0",
            "_model_name": "DescriptionStyleModel",
            "_view_count": null,
            "_view_module": "@jupyter-widgets/base",
            "_view_module_version": "1.2.0",
            "_view_name": "StyleView",
            "description_width": ""
          }
        },
        "d54a1478a38143a1aa0f87a23404ad83": {
          "model_module": "@jupyter-widgets/controls",
          "model_module_version": "1.5.0",
          "model_name": "DescriptionStyleModel",
          "state": {
            "_model_module": "@jupyter-widgets/controls",
            "_model_module_version": "1.5.0",
            "_model_name": "DescriptionStyleModel",
            "_view_count": null,
            "_view_module": "@jupyter-widgets/base",
            "_view_module_version": "1.2.0",
            "_view_name": "StyleView",
            "description_width": ""
          }
        },
        "ed28bcc3b99e4602be08fa974ac367c2": {
          "model_module": "@jupyter-widgets/controls",
          "model_module_version": "1.5.0",
          "model_name": "ProgressStyleModel",
          "state": {
            "_model_module": "@jupyter-widgets/controls",
            "_model_module_version": "1.5.0",
            "_model_name": "ProgressStyleModel",
            "_view_count": null,
            "_view_module": "@jupyter-widgets/base",
            "_view_module_version": "1.2.0",
            "_view_name": "StyleView",
            "bar_color": null,
            "description_width": ""
          }
        },
        "f54e9cef9cf8465e80201163a6599a8a": {
          "model_module": "@jupyter-widgets/controls",
          "model_module_version": "1.5.0",
          "model_name": "DescriptionStyleModel",
          "state": {
            "_model_module": "@jupyter-widgets/controls",
            "_model_module_version": "1.5.0",
            "_model_name": "DescriptionStyleModel",
            "_view_count": null,
            "_view_module": "@jupyter-widgets/base",
            "_view_module_version": "1.2.0",
            "_view_name": "StyleView",
            "description_width": ""
          }
        },
        "fb5d037f97854ce29b690874669bd64b": {
          "model_module": "@jupyter-widgets/controls",
          "model_module_version": "1.5.0",
          "model_name": "FloatProgressModel",
          "state": {
            "_dom_classes": [],
            "_model_module": "@jupyter-widgets/controls",
            "_model_module_version": "1.5.0",
            "_model_name": "FloatProgressModel",
            "_view_count": null,
            "_view_module": "@jupyter-widgets/controls",
            "_view_module_version": "1.5.0",
            "_view_name": "ProgressView",
            "bar_style": "success",
            "description": "",
            "description_tooltip": null,
            "layout": "IPY_MODEL_a82582aac3bd4ef4ad4edd94ad3d88b0",
            "max": 2132967,
            "min": 0,
            "orientation": "horizontal",
            "style": "IPY_MODEL_ed28bcc3b99e4602be08fa974ac367c2",
            "value": 2132967
          }
        }
      }
    }
  },
  "nbformat": 4,
  "nbformat_minor": 0
}
