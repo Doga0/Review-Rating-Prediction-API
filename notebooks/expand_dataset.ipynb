{
 "cells": [
  {
   "cell_type": "code",
   "execution_count": 4,
   "id": "8d6185e9",
   "metadata": {},
   "outputs": [],
   "source": [
    "import pandas as pd\n",
    "import json\n"
   ]
  },
  {
   "cell_type": "code",
   "execution_count": null,
   "id": "4437f1af",
   "metadata": {},
   "outputs": [
    {
     "name": "stdout",
     "output_type": "stream",
     "text": [
      "rating\n",
      "2.0    15000\n",
      "5.0    15000\n",
      "1.0    15000\n",
      "4.0    15000\n",
      "3.0    15000\n",
      "Name: count, dtype: int64\n"
     ]
    }
   ],
   "source": [
    "df2 = pd.read_csv(r\"C:\\\\Users\\\\LENOVO\\\\Downloads\\\\archive (2)\\\\Books_rating.csv\")\n",
    "\n",
    "with open(r\"D:\\\\Downloads\\\\dataset (1) (2) (1).json\") as f:\n",
    "    json_data = json.load(f)\n",
    "df = pd.DataFrame(json_data['data'])\n",
    "\n",
    "# Drop unnecessary columns from df (CSV)\n",
    "columns_to_drop = ['Id', 'Title', 'Price', 'User_id', 'profileName', 'review/time']\n",
    "df2 = df2.drop(columns=columns_to_drop)\n",
    "\n",
    "# Rename columns to match\n",
    "df2 = df2.rename(columns={\n",
    "    'review/helpfulness': 'helpful',\n",
    "    'review/summary': 'summary',\n",
    "    'review/text': 'reviewText',\n",
    "    'review/score': 'rating'\n",
    "})\n",
    "\n",
    "# Calculate how many new samples are needed for each class\n",
    "desired_count = 15000\n",
    "current_counts = df['rating'].value_counts().sort_index()\n",
    "needed_counts = {label: desired_count - current_counts.get(label, 0) for label in range(1, 6)}\n",
    "\n",
    "# Sample the required number of examples from df2 for each class\n",
    "samples = []\n",
    "for label, needed in needed_counts.items():\n",
    "    if needed > 0:\n",
    "        samples.append(df2[df2['rating'] == label].sample(n=needed, random_state=42))\n",
    "\n",
    "df2_balanced = pd.concat(samples, ignore_index=True)\n",
    "\n",
    "# Combine original df with the sampled df2 data\n",
    "final_df = pd.concat([df, df2_balanced], ignore_index=True)\n",
    "\n",
    "# Shuffle the final dataset\n",
    "final_df = final_df.sample(frac=1, random_state=42).reset_index(drop=True)\n",
    "\n",
    "# Check final distribution\n",
    "print(final_df['rating'].value_counts())"
   ]
  },
  {
   "cell_type": "code",
   "execution_count": null,
   "id": "cbc62a7b",
   "metadata": {},
   "outputs": [],
   "source": [
    "final_df.to_csv(\"book_rating_75k.csv\", index=False)"
   ]
  }
 ],
 "metadata": {
  "kernelspec": {
   "display_name": "Python 3",
   "language": "python",
   "name": "python3"
  },
  "language_info": {
   "codemirror_mode": {
    "name": "ipython",
    "version": 3
   },
   "file_extension": ".py",
   "mimetype": "text/x-python",
   "name": "python",
   "nbconvert_exporter": "python",
   "pygments_lexer": "ipython3",
   "version": "3.13.1"
  }
 },
 "nbformat": 4,
 "nbformat_minor": 5
}
