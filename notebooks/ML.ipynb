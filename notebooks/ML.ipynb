{
  "cells": [
    {
      "cell_type": "markdown",
      "metadata": {
        "id": "T6a-4b1rX7-2"
      },
      "source": [
        "# Table of Contents\n",
        "- Initializations\n",
        "- EDA-Feature Engineering\n",
        "  - Parsing and Calculating Helpfullnes Ratio\n",
        "  - Visualizing Binned Distributions of Helpfullness Metrics\n",
        "  - Boxplot of Ratings by Helpfulness Ratio Bins\n",
        "  - Text Preprocessing for Review and Summary Fields\n",
        "  - Sentiment Analysis on Reviews Using VADER\n",
        "  - Sentiment Distribution of Reviews\n",
        "  - Most Common WOrds in Positive, Negative, and Neutral Reviews\n",
        "- Model Development\n",
        " - Loading Pretrained Sentence Transformer for Embedding\n",
        " - Calculating Laplace-Smoothing for Helpfullnes Ratio\n",
        " - Splitting Data\n",
        " - Hyperparameter Configuration for Various Machine Learning Models\n",
        " - Objective Function for Hyperparameter Tuning Using Optuna\n",
        " - Model Evaluation and Saving\n",
        "- Model Training\n",
        "  - Train and evaluate SVR\n",
        "  - Train and evaluate LightGBM\n",
        "  - Train and evaluate XGBoost\n",
        "  - Train and evaluate CatBoost\n",
        "  - Train and evaluate Random Forest\n",
        "- Predictions on Test Set\n",
        "  - SVR Prediction\n",
        "  - XGBoost Prediction\n",
        "  - LightGBM Prediction\n",
        "  - CatBoost Prediction\n",
        "  - Random Forest Prediction\n",
        "\n",
        "\n",
        "\n",
        "\n",
        "\n",
        "\n",
        "\n",
        "  "
      ]
    },
    {
      "cell_type": "markdown",
      "metadata": {
        "id": "eY5KezWRR2Mz"
      },
      "source": [
        "# Initializations"
      ]
    },
    {
      "cell_type": "code",
      "execution_count": null,
      "metadata": {
        "id": "QFDBcQNBkWG3"
      },
      "outputs": [],
      "source": [
        "%pip install -q catboost\n",
        "%pip install -q optuna\n",
        "%pip install -q sentence-transformers\n",
        "%pip install -q vaderSentiment"
      ]
    },
    {
      "cell_type": "code",
      "execution_count": null,
      "metadata": {
        "id": "GED_LIq_NTZV"
      },
      "outputs": [],
      "source": [
        "import joblib\n",
        "import os\n",
        "import pandas as pd\n",
        "import numpy as np\n",
        "import re\n",
        "import nltk\n",
        "from nltk.corpus import stopwords\n",
        "import string\n",
        "import json\n",
        "import seaborn as sns\n",
        "import matplotlib.pyplot as plt\n",
        "\n",
        "from sklearn.model_selection import train_test_split\n",
        "from sklearn.metrics import mean_squared_error, mean_absolute_error, r2_score\n",
        "from sklearn.model_selection import KFold\n",
        "from sklearn.svm import SVR\n",
        "from sklearn.preprocessing import MinMaxScaler\n",
        "\n",
        "from catboost import CatBoostRegressor\n",
        "\n",
        "from sentence_transformers import SentenceTransformer\n",
        "\n",
        "import ast\n",
        "from collections import Counter\n",
        "import string\n",
        "\n",
        "import optuna\n",
        "\n",
        "from xgboost import XGBRegressor\n",
        "from lightgbm import LGBMRegressor\n",
        "from sklearn.ensemble import RandomForestRegressor\n",
        "\n",
        "from vaderSentiment.vaderSentiment import SentimentIntensityAnalyzer"
      ]
    },
    {
      "cell_type": "code",
      "execution_count": null,
      "metadata": {
        "colab": {
          "base_uri": "https://localhost:8080/",
          "height": 363
        },
        "id": "haTc4FhIkx8h",
        "outputId": "9dde7a35-780e-4df9-97af-60d199baadf5"
      },
      "outputs": [],
      "source": [
        "df = pd.read_csv(\"/content/drive/MyDrive/BERT_rating_prediction/book_rating_20k.csv\")\n",
        "df.head(10)"
      ]
    },
    {
      "cell_type": "markdown",
      "metadata": {
        "id": "4UTlv_2GR7Fy"
      },
      "source": [
        "# EDA - Feature Engineering"
      ]
    },
    {
      "cell_type": "code",
      "execution_count": null,
      "metadata": {
        "colab": {
          "base_uri": "https://localhost:8080/",
          "height": 241
        },
        "id": "Jh8xIGRk8xsC",
        "outputId": "bbbd0eea-ee84-44ef-847f-cc45399a91db"
      },
      "outputs": [],
      "source": [
        "# check for nan\n",
        "df.isnull().sum()"
      ]
    },
    {
      "cell_type": "code",
      "execution_count": null,
      "metadata": {
        "colab": {
          "base_uri": "https://localhost:8080/"
        },
        "id": "hApFQnEY82ht",
        "outputId": "a6a79502-c35e-4b9d-c868-bbf170a73734"
      },
      "outputs": [],
      "source": [
        "# check for duplicate samples\n",
        "df.duplicated().sum()"
      ]
    },
    {
      "cell_type": "code",
      "execution_count": null,
      "metadata": {
        "colab": {
          "base_uri": "https://localhost:8080/",
          "height": 241
        },
        "id": "rCRbojbc852V",
        "outputId": "2aef30aa-26b6-43cb-a4c5-edc3bb9f68dd"
      },
      "outputs": [],
      "source": [
        "df.dtypes"
      ]
    },
    {
      "cell_type": "markdown",
      "metadata": {
        "id": "C-AKspabSfd-"
      },
      "source": [
        "### Parsing and Calculating Helpfulness Ratio"
      ]
    },
    {
      "cell_type": "code",
      "execution_count": null,
      "metadata": {
        "id": "Ngij7AE9rxxQ"
      },
      "outputs": [],
      "source": [
        "def parse_helpful(value):\n",
        "    try:\n",
        "\n",
        "        if isinstance(value, str) and value.startswith(\"[\") and value.endswith(\"]\"):\n",
        "            parsed = ast.literal_eval(value)\n",
        "            if isinstance(parsed, list) and len(parsed) == 2:\n",
        "                return parsed[0], parsed[1]\n",
        "\n",
        "        elif isinstance(value, str) and '/' in value:\n",
        "            helpful_votes, total_votes = map(int, value.split('/'))\n",
        "            return helpful_votes, total_votes\n",
        "    except:\n",
        "        pass\n",
        "    return 0, 0\n",
        "\n",
        "df[['helpful_votes', 'total_votes']] = df['helpful'].apply(\n",
        "    lambda x: pd.Series(parse_helpful(x))\n",
        ")\n",
        "\n",
        "df['helpfulness_ratio'] = np.where(\n",
        "    df['total_votes'] == 0,\n",
        "    0,\n",
        "    np.round(df['helpful_votes'] / df['total_votes'], 2)\n",
        ")\n",
        "\n",
        "df.drop('helpful', axis=1, inplace=True)"
      ]
    },
    {
      "cell_type": "code",
      "execution_count": null,
      "metadata": {
        "colab": {
          "base_uri": "https://localhost:8080/",
          "height": 206
        },
        "id": "MB-1hrfj_yNd",
        "outputId": "5971095f-ffca-4d55-fc72-cabccce08fe8"
      },
      "outputs": [],
      "source": [
        "df.head()"
      ]
    },
    {
      "cell_type": "markdown",
      "metadata": {
        "id": "AxaUbzcqSob-"
      },
      "source": [
        "### Visualizing Binned Distributions of Helpfulness *Metrics*"
      ]
    },
    {
      "cell_type": "code",
      "execution_count": null,
      "metadata": {
        "colab": {
          "base_uri": "https://localhost:8080/",
          "height": 404
        },
        "id": "8kqxps5gr1Ec",
        "outputId": "afb28c06-da43-4ec7-a04f-57ee4358992b"
      },
      "outputs": [],
      "source": [
        "df['helpful_votes_binned'] = pd.cut(df['helpful_votes'], bins=[-1, 0, 1, 3, 5, 10, 20, np.inf],\n",
        "                                     labels=['0', '1', '2-3', '4-5', '6-10', '11-20', '21+'])\n",
        "\n",
        "df['total_votes_binned'] = pd.cut(df['total_votes'], bins=[-1, 0, 1, 3, 5, 10, 20, np.inf],\n",
        "                                   labels=['0', '1', '2-3', '4-5', '6-10', '11-20', '21+'])\n",
        "\n",
        "df['helpfulness_ratio_binned'] = pd.cut(df['helpfulness_ratio'], bins=[-0.01, 0, 0.25, 0.5, 0.75, 1.0],\n",
        "                                        labels=['0', '0.01–0.25', '0.26–0.5', '0.51–0.75', '0.76–1.0'])\n",
        "\n",
        "\n",
        "fig, axes = plt.subplots(1, 3, figsize=(18, 5))\n",
        "\n",
        "sns.countplot(x='helpful_votes_binned', hue=\"helpful_votes_binned\", data=df, ax=axes[0], palette='hls')\n",
        "axes[0].set_title(\"helpful_votes_binned\")\n",
        "\n",
        "sns.countplot(x='total_votes_binned', hue=\"total_votes_binned\",data=df, ax=axes[1], palette='hls')\n",
        "axes[1].set_title(\"total_votes_binned\")\n",
        "\n",
        "sns.countplot(x='helpfulness_ratio_binned', hue=\"helpfulness_ratio_binned\", data=df, ax=axes[2], palette='hls')\n",
        "axes[2].set_title(\"helpfulness_ratio_binned\")\n",
        "\n",
        "plt.tight_layout()\n",
        "plt.show()\n",
        "\n",
        "df.drop('helpful_votes_binned', axis=1, inplace=True)\n",
        "df.drop('total_votes_binned', axis=1, inplace=True)\n",
        "df.drop('helpfulness_ratio_binned', axis=1, inplace=True)"
      ]
    },
    {
      "cell_type": "markdown",
      "metadata": {
        "id": "actNYxYdSvtC"
      },
      "source": [
        "### Boxplot of Ratings by Helpfulness Ratio Bins"
      ]
    },
    {
      "cell_type": "code",
      "execution_count": null,
      "metadata": {
        "colab": {
          "base_uri": "https://localhost:8080/",
          "height": 472
        },
        "id": "20vgDkdusA58",
        "outputId": "06a7c0ff-2e20-48f6-c525-2ac4724de800"
      },
      "outputs": [],
      "source": [
        "df['helpfulness_bin'] = pd.cut(df['helpfulness_ratio'], bins=[0, 0.25, 0.5, 0.75, 1.0])\n",
        "sns.boxplot(x='helpfulness_bin', y='rating', data=df)\n",
        "plt.title(\"Rating Distribution by Helpfulness Ratio Bin\")\n",
        "plt.show()\n",
        "df.drop(\"helpfulness_bin\", axis=1, inplace=True)"
      ]
    },
    {
      "cell_type": "code",
      "execution_count": null,
      "metadata": {
        "id": "ZJGW9-QOsDjM"
      },
      "outputs": [],
      "source": [
        "df.drop(\"reviewTime\", axis=1, inplace=True)\n",
        "df.dropna(inplace=True)\n",
        "df.drop_duplicates(inplace=True)"
      ]
    },
    {
      "cell_type": "markdown",
      "metadata": {
        "id": "rkq5QTz1S1xV"
      },
      "source": [
        "### Text Preprocessing for Review and Summary Fields"
      ]
    },
    {
      "cell_type": "code",
      "execution_count": null,
      "metadata": {
        "colab": {
          "base_uri": "https://localhost:8080/"
        },
        "id": "_KixG88xyC4I",
        "outputId": "27644396-5f8a-4eb0-9287-63e7f5d42e1a"
      },
      "outputs": [],
      "source": [
        "nltk.download('stopwords')\n",
        "stop_words = set(stopwords.words('english'))\n",
        "\n",
        "def text_preprocessing(text):\n",
        "    text = text.lower() # Convert all characters to lowercase\n",
        "    text = text.strip() # Remove leading and trailing whitespace\n",
        "    text = re.sub(r'https?://www.', '', text) # Remove URLs that start with 'http://www.' or 'https://www.'\n",
        "    text = re.sub('\\[.*?\\]', '', text) # Remove content inside square brackets (e.g., [example])\n",
        "    text = re.sub(\"\\\\W\",\" \",text) # Replace all non-word characters\n",
        "    text = re.sub('https?://\\S+|www\\.\\S+', '', text) # Remove remaining URLs\n",
        "    text = re.sub('<.*?>+', '', text) # Remove HTML tags\n",
        "    text = re.sub('[%s]' % re.escape(string.punctuation), '', text) # Remove punctuation\n",
        "    text = re.sub('\\n', '', text) # Remove newline characters\n",
        "    text = re.sub('\\w*\\d\\w*', '', text) # Remove any word that contains digits\n",
        "    return text\n",
        "\n",
        "\n",
        "new_df = df.copy()\n",
        "new_df['reviewText'] = new_df['reviewText'].apply(text_preprocessing)\n",
        "new_df['summary'] = new_df['summary'].apply(text_preprocessing)"
      ]
    },
    {
      "cell_type": "markdown",
      "metadata": {
        "id": "RCkBUXczTg-t"
      },
      "source": [
        "### Sentiment Analysis on Reviews Using VADER"
      ]
    },
    {
      "cell_type": "code",
      "execution_count": null,
      "metadata": {
        "colab": {
          "base_uri": "https://localhost:8080/",
          "height": 363
        },
        "id": "bkDdh3qH2nSo",
        "outputId": "fd88c0df-c2d0-47e7-db89-d866b1d60634"
      },
      "outputs": [],
      "source": [
        "analyzer = SentimentIntensityAnalyzer()\n",
        "\n",
        "def get_sentiment(review):\n",
        "    return analyzer.polarity_scores(review)\n",
        "\n",
        "new_df['vader_scores'] = new_df['reviewText'].apply(get_sentiment)\n",
        "\n",
        "new_df['compound'] = new_df['vader_scores'].apply(lambda score_dict: score_dict['compound'])\n",
        "\n",
        "def classify_sentiment(compound_score):\n",
        "    if compound_score >= 0.05:\n",
        "        return 'Positive'\n",
        "    elif compound_score <= -0.05:\n",
        "        return 'Negative'\n",
        "    else:\n",
        "        return 'Neutral'\n",
        "\n",
        "new_df['sentiment'] = new_df['compound'].apply(classify_sentiment)\n",
        "\n",
        "new_df.drop('vader_scores', axis=1, inplace=True)\n",
        "new_df.drop('compound', axis=1, inplace=True)\n",
        "\n",
        "new_df.head(10)"
      ]
    },
    {
      "cell_type": "markdown",
      "metadata": {
        "id": "lXBV7zPJT_Rd"
      },
      "source": [
        "### Sentiment Distribution of Reviews"
      ]
    },
    {
      "cell_type": "code",
      "execution_count": null,
      "metadata": {
        "colab": {
          "base_uri": "https://localhost:8080/",
          "height": 656
        },
        "id": "IpaYQwjz3Jbr",
        "outputId": "a51dc780-6bad-41ec-9b05-eade1dca153b"
      },
      "outputs": [],
      "source": [
        "plt.figure(figsize=(8, 6))\n",
        "\n",
        "sns.countplot(data=new_df, x='sentiment', palette='hls')\n",
        "\n",
        "plt.title('Sentiment Distribution of Reviews', fontsize=14)\n",
        "plt.xlabel('Sentiment', fontsize=12)\n",
        "plt.ylabel('Count', fontsize=12)\n",
        "\n",
        "for p in plt.gca().patches:\n",
        "    plt.gca().annotate(f'{p.get_height()}', (p.get_x() + p.get_width() / 2, p.get_height()),\n",
        "                       ha='center', va='bottom', fontsize=11)\n",
        "\n",
        "plt.show()"
      ]
    },
    {
      "cell_type": "markdown",
      "metadata": {
        "id": "B-waLrwSUFuc"
      },
      "source": [
        "### Most Common Words in Positive, Negative, and Neutral Reviews"
      ]
    },
    {
      "cell_type": "code",
      "execution_count": null,
      "metadata": {
        "colab": {
          "base_uri": "https://localhost:8080/",
          "height": 1000
        },
        "id": "t8wI0oBB3t9B",
        "outputId": "43c2bea3-a4e7-4a40-f172-87a43d658a6f"
      },
      "outputs": [],
      "source": [
        "nltk.download('stopwords')\n",
        "stop_words = set(stopwords.words('english'))\n",
        "punctuation = set(string.punctuation)\n",
        "\n",
        "def filter_tokens(tokens):\n",
        "    return [token.lower() for token in tokens if token.lower() not in stop_words and token not in punctuation]\n",
        "\n",
        "def plot_most_common_words(common_words, sentiment, color):\n",
        "    words, counts = zip(*common_words)\n",
        "\n",
        "    plt.figure(figsize=(10, 6))\n",
        "    sns.barplot(x=list(counts), y=list(words), palette=color)\n",
        "\n",
        "    plt.title(f'Most Common Words in {sentiment} Reviews', fontsize=16)\n",
        "    plt.xlabel('Frequency', fontsize=14)\n",
        "    plt.ylabel('Words', fontsize=14)\n",
        "    plt.tight_layout()\n",
        "    plt.show()\n",
        "\n",
        "positive_reviews = new_df[new_df['sentiment'] == 'Positive']['reviewText']\n",
        "negative_reviews = new_df[new_df['sentiment'] == 'Negative']['reviewText']\n",
        "neutral_reviews  = new_df[new_df['sentiment'] == 'Neutral']['reviewText']\n",
        "\n",
        "def get_filtered_words(text_series):\n",
        "    words = []\n",
        "    for review in text_series.dropna():\n",
        "        tokens = review.split()\n",
        "        filtered = filter_tokens(tokens)\n",
        "        words.extend(filtered)\n",
        "    return words\n",
        "\n",
        "positive_words_list = get_filtered_words(positive_reviews)\n",
        "negative_words_list = get_filtered_words(negative_reviews)\n",
        "neutral_words_list  = get_filtered_words(neutral_reviews)\n",
        "\n",
        "positive_words = Counter(positive_words_list).most_common(20)\n",
        "negative_words = Counter(negative_words_list).most_common(20)\n",
        "neutral_words  = Counter(neutral_words_list).most_common(20)\n",
        "\n",
        "plot_most_common_words(positive_words, 'Positive', 'Greens')\n",
        "plot_most_common_words(negative_words, 'Negative', 'Reds')\n",
        "plot_most_common_words(neutral_words, 'Neutral', 'Blues')"
      ]
    },
    {
      "cell_type": "code",
      "execution_count": null,
      "metadata": {
        "id": "gLOzR7dySREg"
      },
      "outputs": [],
      "source": [
        "# I deleted \"sentiment\" because i realized it can mislead the model\n",
        "new_df.drop(\"sentiment\", axis=1, inplace=True)"
      ]
    },
    {
      "cell_type": "markdown",
      "metadata": {
        "id": "y01zK35YUPWs"
      },
      "source": [
        "# Model Development"
      ]
    },
    {
      "cell_type": "markdown",
      "metadata": {
        "id": "RiR2MPaEUUxZ"
      },
      "source": [
        "### Loading Pretrained Sentence Transformer Model for Embedding"
      ]
    },
    {
      "cell_type": "code",
      "execution_count": null,
      "metadata": {
        "colab": {
          "base_uri": "https://localhost:8080/"
        },
        "id": "HV_kBG10nb8_",
        "outputId": "8cbe53d1-ea71-4631-f91a-e2faffa8578c"
      },
      "outputs": [],
      "source": [
        "# vectorization\n",
        "embedding_model = SentenceTransformer('sentence-transformers/all-mpnet-base-v2')"
      ]
    },
    {
      "cell_type": "markdown",
      "metadata": {
        "id": "QF7vcT97Ug25"
      },
      "source": [
        "### Calculating Laplace-Smoothing for Helpfulness Ratio"
      ]
    },
    {
      "cell_type": "code",
      "execution_count": null,
      "metadata": {
        "id": "-9eplZcVf_8m"
      },
      "outputs": [],
      "source": [
        "α = 5\n",
        "# global mean ratio (ignore zero-vote by replacing 0→nan)\n",
        "μ = (\n",
        "    new_df[\"helpful_votes\"].sum()\n",
        "    / new_df[\"total_votes\"].replace(0, np.nan).sum()\n",
        ")\n",
        "\n",
        "# Laplace‐smoothed ratio\n",
        "new_df[\"smoothed_ratio\"] = (\n",
        "    new_df[\"helpful_votes\"] + α * μ\n",
        ") / (\n",
        "    new_df[\"total_votes\"] + α\n",
        ")\n",
        "\n",
        "new_df.drop(\"helpful_votes\", axis=1, inplace=True)\n",
        "new_df.drop(\"total_votes\", axis=1, inplace=True)\n",
        "new_df.drop(\"helpfulness_ratio\", axis=1, inplace=True)\n",
        "\n",
        "new_df['text_combined'] = new_df['reviewText'] + \" \" + new_df['summary']\n",
        "\n",
        "new_df.drop(\"summary\", axis=1, inplace=True)\n",
        "new_df.drop(\"reviewText\", axis=1, inplace=True)"
      ]
    },
    {
      "cell_type": "code",
      "execution_count": null,
      "metadata": {
        "colab": {
          "base_uri": "https://localhost:8080/",
          "height": 206
        },
        "id": "S5yBremtkrs5",
        "outputId": "3d0123e6-3be7-430d-ad26-c66f92f025cd"
      },
      "outputs": [],
      "source": [
        "new_df.head()"
      ]
    },
    {
      "cell_type": "markdown",
      "metadata": {
        "id": "8GvkryhhUpzo"
      },
      "source": [
        "### Splitting Data"
      ]
    },
    {
      "cell_type": "code",
      "execution_count": null,
      "metadata": {
        "id": "LqNaDdnvncZO"
      },
      "outputs": [],
      "source": [
        "train_df, test_df = train_test_split(new_df, test_size=0.2, random_state=42, shuffle=True)\n",
        "weights = train_df[\"smoothed_ratio\"].values\n",
        "train_df.drop(\"smoothed_ratio\", axis=1, inplace=True)\n",
        "test_df.drop(\"smoothed_ratio\", axis=1, inplace=True)"
      ]
    },
    {
      "cell_type": "markdown",
      "metadata": {
        "id": "iiw9lYFzUv01"
      },
      "source": [
        "### Hyperparameter Configuration for Various Machine Learning Models"
      ]
    },
    {
      "cell_type": "code",
      "execution_count": null,
      "metadata": {
        "id": "UFPh1vkB3gPR"
      },
      "outputs": [],
      "source": [
        "class CFG:\n",
        "  cat_params = {\n",
        "            'depth': (4, 10),\n",
        "            'learning_rate': (0.01, 0.3),\n",
        "            'l2_leaf_reg': (1, 15),\n",
        "            'colsample_bylevel': (0.6, 1.0),\n",
        "            'min_data_in_leaf': (1, 30),\n",
        "            'grow_policy': (['SymmetricTree', 'Depthwise', 'Lossguide']),\n",
        "            'bootstrap_type': (['Bayesian', 'Bernoulli', 'MVS']),\n",
        "            'iterations': (800, 2000),\n",
        "        }\n",
        "\n",
        "  xgb_params = {\n",
        "            'enable_categorical': True,\n",
        "            'objective': 'reg:squarederror',\n",
        "            'verbosity': 0,\n",
        "            'n_estimators': (1000, 10000),\n",
        "            'learning_rate': (1e-3, 0.1),\n",
        "            'max_depth': (3, 8),\n",
        "            'subsample': (0.5, 1.0),\n",
        "            'colsample_bytree': (0.1, 1.0),\n",
        "            'min_child_weight': (1, 100),\n",
        "            'reg_lambda': (1e-2, 100.0)\n",
        "        }\n",
        "\n",
        "  seed = 42\n",
        "  lgb_params = {\n",
        "        'objective': 'regression',\n",
        "        'metric': 'l2',\n",
        "        'learning_rate': (1e-3, 0.2),\n",
        "        'num_iterations': (100, 1000),\n",
        "        'num_leaves': (16, 512),\n",
        "        'max_depth': (3, 16),\n",
        "        'min_child_samples': (5, 50),\n",
        "        'reg_alpha': (1e-8, 10.0),\n",
        "        'reg_lambda': (1e-8, 10.0),\n",
        "        'extra_trees': ([True, False]),\n",
        "        'importance_type': (['split', 'gain']),\n",
        "        'max_bin': (128, 512),\n",
        "        'verbose': -1\n",
        "    }\n",
        "\n",
        "  svr_params = {\n",
        "        'C': (1e-1, 10.0),\n",
        "        'epsilon': (1e-3, 10.0),\n",
        "        'gamma': (['scale', 'auto']),\n",
        "        'kernel': (['linear', 'poly', 'rbf', 'sigmoid'])\n",
        "    }\n",
        "\n",
        "  rf_params = {\n",
        "      \"n_estimators\": (100, 1000),\n",
        "      \"max_depth\": (10, 50),\n",
        "      \"min_samples_split\": (2, 32),\n",
        "      \"min_samples_leaf\": (1, 32),\n",
        "      \"max_features\": (['sqrt', 'log2']),\n",
        "      \"criterion\": [\"squared_error\"]\n",
        "  }\n"
      ]
    },
    {
      "cell_type": "markdown",
      "metadata": {
        "id": "Qed8aMCIU5tg"
      },
      "source": [
        "### Objective Function for Hyperparameter Tuning Using Optuna"
      ]
    },
    {
      "cell_type": "code",
      "execution_count": null,
      "metadata": {
        "id": "wg_DYszhyvx1"
      },
      "outputs": [],
      "source": [
        "def objective(trial, X, y, model_name, weights, n_splits=5):\n",
        "  \"\"\"\n",
        "    Objective function for hyperparameter optimization using Optuna.\n",
        "    It performs K-Fold cross-validation and calculates Mean Squared Error (MSE) for the given model.\n",
        "\n",
        "    Parameters:\n",
        "    - trial: The current Optuna trial, which contains hyperparameter suggestions.\n",
        "    - X: The feature matrix (training data).\n",
        "    - y: The target variable (training targets).\n",
        "    - model_name: The name of the model (e.g., \"CatBoost\", \"XGBoost\", \"LightGBM\", \"SVR\", \"RF\").\n",
        "    - weights: Sample weights for the training data.\n",
        "    - n_splits: The number of splits for K-Fold cross-validation (default is 5).\n",
        "\n",
        "    Returns:\n",
        "    - The mean MSE score over the K-Fold splits. This will be minimized by Optuna to find the best hyperparameters.\n",
        "    \"\"\"\n",
        "\n",
        "  X = np.array(X)\n",
        "  y = np.array(y)\n",
        "  weights = np.array(weights)\n",
        "  print(f\"\\n----- Training {model_name} -----\")\n",
        "\n",
        "  cat_cols = [col for col in train_df.columns if train_df[col].dtype == [\"category\", \"object\"]]\n",
        "  num_cols = [col for col in train_df.columns if train_df[col].dtype != [\"category\", \"object\"]]\n",
        "\n",
        "  # K-Fold cross-validation\n",
        "  kf = KFold(n_splits=n_splits, shuffle=True, random_state=42)\n",
        "\n",
        "  mse_scores = []\n",
        "\n",
        "  for train_index, valid_index in kf.split(X):\n",
        "      X_train, X_valid = X[train_index], X[valid_index]\n",
        "      y_train, y_valid = y[train_index], y[valid_index]\n",
        "\n",
        "      # Assigning sample weights for the training data\n",
        "      sample_weights = weights[train_index]\n",
        "\n",
        "      # Training and hyperparameter tuning for CatBoost\n",
        "      if model_name.startswith(\"CatBoost\"):\n",
        "        params = {\n",
        "            \"loss_function\": 'RMSE',\n",
        "            'depth': trial.suggest_int('depth', *CFG.cat_params[\"depth\"]),\n",
        "            'learning_rate': trial.suggest_float('learning_rate', *CFG.cat_params[\"learning_rate\"], log=True),\n",
        "            'l2_leaf_reg': trial.suggest_float('l2_leaf_reg', *CFG.cat_params[\"l2_leaf_reg\"]),\n",
        "            'colsample_bylevel': trial.suggest_float('colsample_bylevel', *CFG.cat_params[\"colsample_bylevel\"]),\n",
        "            'min_data_in_leaf': trial.suggest_int('min_data_in_leaf', *CFG.cat_params[\"min_data_in_leaf\"]),\n",
        "            'grow_policy': trial.suggest_categorical('grow_policy', CFG.cat_params[\"grow_policy\"]),\n",
        "            'bootstrap_type': trial.suggest_categorical('bootstrap_type', CFG.cat_params[\"bootstrap_type\"]),\n",
        "            'iterations': trial.suggest_int('iterations', *CFG.cat_params[\"iterations\"]),\n",
        "        }\n",
        "\n",
        "        model = CatBoostRegressor(\n",
        "            **params,\n",
        "            cat_features=cat_cols,\n",
        "            verbose = 200\n",
        "        )\n",
        "\n",
        "      # Training and hyperparameter tuning for XGBoost\n",
        "      if model_name.startswith(\"XGBoost\"):\n",
        "        params = {\n",
        "            'enable_categorical': CFG.xgb_params[\"enable_categorical\"],\n",
        "            'objective': CFG.xgb_params['objective'],\n",
        "            'verbosity': CFG.xgb_params[\"verbosity\"],\n",
        "            'n_estimators': trial.suggest_int(\"n_estimators\", *CFG.xgb_params[\"n_estimators\"]),\n",
        "            'learning_rate': trial.suggest_loguniform(\"learning_rate\", *CFG.xgb_params[\"learning_rate\"]),\n",
        "            'max_depth': trial.suggest_int(\"max_depth\", *CFG.xgb_params[\"max_depth\"]),\n",
        "            'subsample': trial.suggest_float(\"subsample\", *CFG.xgb_params[\"subsample\"]),\n",
        "            'colsample_bytree': trial.suggest_float(\"colsample_bytree\", *CFG.xgb_params[\"colsample_bytree\"]),\n",
        "            'min_child_weight': trial.suggest_int(\"min_child_weight\", *CFG.xgb_params[\"min_child_weight\"]),\n",
        "            'reg_lambda': trial.suggest_loguniform(\"reg_lambda\", *CFG.xgb_params[\"reg_lambda\"])\n",
        "        }\n",
        "        model = XGBRegressor(**params)\n",
        "\n",
        "      # Training and hyperparameter tuning for LightGBM\n",
        "      if model_name.startswith(\"LightGBM\"):\n",
        "        params = {\n",
        "          'objective': 'regression',\n",
        "          'metric': 'l2',\n",
        "          'learning_rate': trial.suggest_float('learning_rate', *CFG.lgb_params['learning_rate'], log=True),\n",
        "          'num_iterations': trial.suggest_int('num_iterations', *CFG.lgb_params['num_iterations']),\n",
        "          'num_leaves': trial.suggest_int('num_leaves', *CFG.lgb_params['num_leaves']),\n",
        "          'max_depth': trial.suggest_int('max_depth', *CFG.lgb_params['max_depth']),\n",
        "          'min_child_samples': trial.suggest_int('min_child_samples', *CFG.lgb_params['min_child_samples']),\n",
        "          'reg_alpha': trial.suggest_float('reg_alpha', *CFG.lgb_params['reg_alpha'], log=True),\n",
        "          'reg_lambda': trial.suggest_float('reg_lambda', *CFG.lgb_params['reg_lambda'], log=True),\n",
        "          'extra_trees': trial.suggest_categorical('extra_trees', CFG.lgb_params['extra_trees']),\n",
        "          'importance_type': trial.suggest_categorical('importance_type', CFG.lgb_params['importance_type']),\n",
        "          'max_bin': trial.suggest_int('max_bin', *CFG.lgb_params['max_bin']),\n",
        "          'verbose': 200,\n",
        "          'seed': CFG.seed\n",
        "        }\n",
        "        model = LGBMRegressor(**params)\n",
        "\n",
        "      # Training and hyperparameter tuning for Support Vector Machine\n",
        "      if model_name.startswith(\"SVR\"):\n",
        "        params = {\n",
        "          'C': trial.suggest_float('C', *CFG.svr_params['C']),\n",
        "          'epsilon': trial.suggest_float('epsilon', *CFG.svr_params['epsilon']),\n",
        "          'gamma': trial.suggest_categorical('gamma', CFG.svr_params['gamma']),\n",
        "          'kernel': trial.suggest_categorical('kernel', CFG.svr_params['kernel']),\n",
        "        }\n",
        "        model =  SVR(**params)\n",
        "\n",
        "      # Training and hyperparameter tuning for Random Fores\n",
        "      if model_name.startswith(\"RF\"):\n",
        "        params = {\n",
        "          \"n_estimators\": trial.suggest_int('n_estimators', *CFG.rf_params[\"n_estimators\"]),\n",
        "          \"max_depth\": trial.suggest_int('max_depth', *CFG.rf_params[\"max_depth\"]),\n",
        "          \"min_samples_split\": trial.suggest_int('min_samples_split', *CFG.rf_params[\"min_samples_split\"]),\n",
        "          \"min_samples_leaf\": trial.suggest_int('min_samples_leaf', *CFG.rf_params[\"min_samples_leaf\"]),\n",
        "          \"max_features\": trial.suggest_categorical('max_features', CFG.rf_params[\"max_features\"]),\n",
        "          \"criterion\": trial.suggest_categorical('criterion', CFG.rf_params[\"criterion\"]),\n",
        "        }\n",
        "        model = RandomForestRegressor(**params)\n",
        "\n",
        "      # Fitting the model and making predictions\n",
        "      model.fit(X_train, y_train, sample_weight=sample_weights)\n",
        "      preds = model.predict(X_valid)\n",
        "\n",
        "      # Calculating mean squared error\n",
        "      mse = mean_squared_error(y_valid, preds)\n",
        "\n",
        "      mse_scores.append(mse)\n",
        "\n",
        "  return np.mean(mse_scores)"
      ]
    },
    {
      "cell_type": "code",
      "execution_count": null,
      "metadata": {
        "colab": {
          "base_uri": "https://localhost:8080/",
          "height": 81,
          "referenced_widgets": [
            "ab155f72df1840789a9591a8660e0f7a",
            "b6b2176766794246a06e9d2f67a130e7",
            "dd369425b6be4cd19b783b5bd3fb72b4",
            "81f050a42ddc4207a6e904a883eb8ed0",
            "c6d156a4396c4e0a8573537f4380f4e1",
            "f769bc1b98844bdda645964c5a47ca87",
            "4409146fca444ef48acd0637fce6b002",
            "634bdc2264604a5086f2e3be9661642b",
            "876c9db298ab4f738834636be5fa9dc1",
            "5147cf3008c14d7386d1bdea29a7a6de",
            "626d2cba106543c18471724947e3eb0b",
            "4210241dff154d02ac8c18c3214fc938",
            "612edf2522d944978c6118727d00d757",
            "31bc8537628d4342809a8a3996235a7a",
            "6f02894d66a44c81ae1f80a8cebede8f",
            "8d74eb0328674313beec3911bf2c3a22",
            "539f764b7f8848368b74a45d0699284c",
            "f9419e4f353d40e9960ece9750fafd51",
            "50943798b0424dbfb968f1bfc8a51704",
            "997bc43304b748258bc87e97f5b299a6",
            "384212bb0b6a404d9e3c6d1588761f49",
            "bdc133385ad840f8960477124f4ad772"
          ]
        },
        "id": "YnMswIPn5KZD",
        "outputId": "99671b82-8a2d-43de-9033-a497ef7287d4"
      },
      "outputs": [],
      "source": [
        "train_embeddings = embedding_model.encode(list(train_df['text_combined'].values), show_progress_bar = True)\n",
        "test_embeddings = embedding_model.encode(list(test_df['text_combined'].values), show_progress_bar = True)\n",
        "\n",
        "X_train = train_embeddings\n",
        "y_train = train_df['rating'].values\n",
        "\n",
        "X_test = test_embeddings\n",
        "y_test = test_df['rating'].values\n",
        "\n",
        "def run(X_train, y_train, model_name, n_trials, weights):\n",
        "  \"\"\"\n",
        "    Function to run hyperparameter optimization using Optuna.\n",
        "\n",
        "    Parameters:\n",
        "    - X_train: The training feature matrix\n",
        "    - y_train: The training target values\n",
        "    - model_name: The name of the model to use (e.g., CatBoost, XGBoost)\n",
        "    - n_trials: The number of Optuna trials for optimization\n",
        "    - weights: Sample weights for training\n",
        "\n",
        "    Returns:\n",
        "    - The best hyperparameters found by Optuna\n",
        "    \"\"\"\n",
        "\n",
        "  study = optuna.create_study(direction=\"minimize\")\n",
        "  study.optimize(lambda trial: objective(trial, X_train, y_train, model_name, weights), n_trials=n_trials)\n",
        "\n",
        "  print(\"Best MSE:\", study.best_value)\n",
        "  print(\"Best params:\", study.best_params)\n",
        "\n",
        "  return study.best_params"
      ]
    },
    {
      "cell_type": "markdown",
      "metadata": {
        "id": "FlaCUAdKWbOn"
      },
      "source": [
        "### Model Evaluation and Saving"
      ]
    },
    {
      "cell_type": "code",
      "execution_count": null,
      "metadata": {
        "id": "HJoGOzb0R25L"
      },
      "outputs": [],
      "source": [
        "def evaluate_model(model, X_train, y_train, X_test, y_test, test_df, model_name):\n",
        "    \"\"\"\n",
        "    This function evaluates a given machine learning model by training it on the training dataset,\n",
        "    predicting on the test dataset, and calculating performance metrics. It also applies clipping and\n",
        "    rounding on predictions to handle outliers and adjusts the results accordingly.\n",
        "\n",
        "    Parameters:\n",
        "    - model: The machine learning model to be evaluated (e.g., XGBoost, CatBoost, etc.)\n",
        "    - X_train: Training features\n",
        "    - y_train: Target values for the training set\n",
        "    - X_test: Testing features\n",
        "    - y_test: Target values for the test set\n",
        "    - test_df: DataFrame that includes test data and will hold the predictions\n",
        "    - model_name: The name of the model (string) for displaying results\n",
        "\n",
        "    Returns:\n",
        "    - test_df: The input DataFrame containing predictions and the evaluation metrics\n",
        "\n",
        "    The function prints out the following evaluation metrics:\n",
        "    - MAE (Mean Absolute Error)\n",
        "    - MSE (Mean Squared Error)\n",
        "    - R2 (R-squared)\n",
        "    - Number of predictions greater than 5\n",
        "\n",
        "    It then clips predictions that exceed a value of 5.0, rounds the predictions,\n",
        "    and re-evaluates the model using the clipped and rounded predictions.\n",
        "    \"\"\"\n",
        "\n",
        "    # Fit\n",
        "    model.fit(X_train, y_train)\n",
        "\n",
        "    # Predict\n",
        "    preds = model.predict(X_test)\n",
        "    test_df['preds'] = preds\n",
        "\n",
        "    # Before clipping\n",
        "    print(f\"\\n{model_name} Results (Before Clipping)\")\n",
        "    print(\"MAE:\\t{:.5f}\".format(mean_absolute_error(y_test, preds)))\n",
        "    print(\"MSE:\\t{:.5f}\".format(mean_squared_error(y_test, preds)))\n",
        "    print(\"R2:\\t{:.5f}\".format(r2_score(y_test, preds)))\n",
        "    print(\"Preds > 5:\\t\", len(np.where(test_df['preds'] > 5)[0]))\n",
        "\n",
        "    # Clipping predictions\n",
        "    test_df['preds'] = test_df['preds'].apply(lambda x: 5.0 if x > 5.0 else x)\n",
        "\n",
        "    # Rounding predictions\n",
        "    test_df['preds'] = test_df['preds'].round()\n",
        "\n",
        "    # After clipping\n",
        "    print(f\"\\n{model_name} Results (After Clipping)\")\n",
        "    print(\"MAE:\\t{:.5f}\".format(mean_absolute_error(y_test, test_df['preds'])))\n",
        "    print(\"MSE:\\t{:.5f}\".format(mean_squared_error(y_test, test_df['preds'])))\n",
        "    print(\"R2:\\t{:.5f}\".format(r2_score(y_test, test_df['preds'])))\n",
        "\n",
        "    return test_df\n",
        "\n",
        "def save_model(model, model_name, output_dir=\"/content/drive/MyDrive/BERT_rating_prediction/ml_models/\"):\n",
        "    \"\"\"\n",
        "    This function saves a trained model to a specified directory in .pkl (pickle) format for later use.\n",
        "\n",
        "    Parameters:\n",
        "    - model: The trained machine learning model (e.g., XGBoost, CatBoost, etc.)\n",
        "    - model_name: The name of the model to be saved (string)\n",
        "    - output_dir: The directory where the model will be saved (string, default is '/content/drive/MyDrive/BERT_rating_prediction/ml_models/')\n",
        "\n",
        "    Returns:\n",
        "    - None\n",
        "\n",
        "    The function creates the output directory (if it doesn't exist) and saves the model\n",
        "    as a .pkl file using the provided model_name.\n",
        "    \"\"\"\n",
        "\n",
        "    os.makedirs(output_dir, exist_ok=True)\n",
        "    file_path = os.path.join(output_dir, f\"{model_name}.pkl\")\n",
        "    joblib.dump(model, file_path)\n",
        "    print(f\"Model saved to: {file_path}\")"
      ]
    },
    {
      "cell_type": "markdown",
      "metadata": {
        "id": "PAWlkNcDW1r6"
      },
      "source": [
        "# Model Training"
      ]
    },
    {
      "cell_type": "markdown",
      "metadata": {
        "id": "FB9sd-tjW812"
      },
      "source": [
        "### Train and evaluate SVR"
      ]
    },
    {
      "cell_type": "code",
      "execution_count": null,
      "metadata": {
        "colab": {
          "base_uri": "https://localhost:8080/"
        },
        "id": "fpisR8wqSNfl",
        "outputId": "00f801b9-fdc4-419e-8a74-996efe60270f"
      },
      "outputs": [],
      "source": [
        "best_params = run(X_train, y_train, model_name=\"SVR\", n_trials=10, weights=weights)\n",
        "best_model = SVR(**best_params)\n",
        "test_df_svr = evaluate_model(best_model, X_train, y_train, X_test, y_test, test_df.copy(), \"SVR\")\n",
        "save_model(best_model, \"SVR\")"
      ]
    },
    {
      "cell_type": "markdown",
      "metadata": {
        "id": "DK1eHpY0W_eU"
      },
      "source": [
        "### Train and evaluate LightGBM"
      ]
    },
    {
      "cell_type": "code",
      "execution_count": null,
      "metadata": {
        "colab": {
          "base_uri": "https://localhost:8080/"
        },
        "id": "5wDIhR1iSLkm",
        "outputId": "936a8013-dd76-4b21-ae84-24fa56d34c92"
      },
      "outputs": [],
      "source": [
        "best_params = run(X_train, y_train, model_name=\"LightGBM\", n_trials=1, weights=weights)\n",
        "best_model = LGBMRegressor(**best_params, random_state=42)\n",
        "test_df_lgb = evaluate_model(best_model, X_train, y_train, X_test, y_test, test_df.copy(), \"LightGBM\")\n",
        "save_model(best_model, \"LightGBM\")"
      ]
    },
    {
      "cell_type": "markdown",
      "metadata": {
        "id": "W_WuoCo1XCtG"
      },
      "source": [
        "### Train and evaluate XGBoost"
      ]
    },
    {
      "cell_type": "code",
      "execution_count": null,
      "metadata": {
        "colab": {
          "base_uri": "https://localhost:8080/"
        },
        "id": "_Ai4-5ePSLHm",
        "outputId": "65ac8bcd-1f97-4ddd-b25f-253e398aaa4c"
      },
      "outputs": [],
      "source": [
        "best_params = run(X_train, y_train, model_name=\"XGBoost\", n_trials=1, weights=weights)\n",
        "best_model = XGBRegressor(**best_params, random_state=42)\n",
        "test_df_xgb = evaluate_model(best_model, X_train, y_train, X_test, y_test, test_df.copy(), \"XGBoost\")\n",
        "save_model(best_model, \"XGBoost\")"
      ]
    },
    {
      "cell_type": "markdown",
      "metadata": {
        "id": "5Q4KSRALXFP9"
      },
      "source": [
        "### Train and evaluate CatBoost"
      ]
    },
    {
      "cell_type": "code",
      "execution_count": null,
      "metadata": {
        "colab": {
          "base_uri": "https://localhost:8080/"
        },
        "id": "tksINlmwSgFF",
        "outputId": "cce3710b-890f-4f44-9a45-936517432f3f"
      },
      "outputs": [],
      "source": [
        "best_params = run(X_train, y_train, model_name=\"CatBoost\", n_trials=1, weights=weights)\n",
        "best_model = CatBoostRegressor(**best_params, random_state=42, verbose=200, cat_features=[])\n",
        "test_df_cat = evaluate_model(best_model, X_train, y_train, X_test, y_test, test_df.copy(), \"CatBoost\")\n",
        "save_model(best_model, \"CatBoost\")"
      ]
    },
    {
      "cell_type": "markdown",
      "metadata": {
        "id": "faO9ZWjFXIWP"
      },
      "source": [
        "### Train and evaluate RandomForest"
      ]
    },
    {
      "cell_type": "code",
      "execution_count": null,
      "metadata": {
        "colab": {
          "base_uri": "https://localhost:8080/"
        },
        "id": "ozi92YvVChrh",
        "outputId": "7923ef39-a229-4b0e-b366-92d026a925cb"
      },
      "outputs": [],
      "source": [
        "best_params = run(X_train, y_train, model_name=\"RF\", n_trials=1, weights=weights)\n",
        "best_model = RandomForestRegressor(**best_params, random_state=42)\n",
        "test_df_rf = evaluate_model(best_model, X_train, y_train, X_test, y_test, test_df.copy(), \"RF\")\n",
        "save_model(best_model, \"RandomForest\")"
      ]
    },
    {
      "cell_type": "markdown",
      "metadata": {
        "id": "BO_WzQYaXK02"
      },
      "source": [
        "# Predictions on Test Set"
      ]
    },
    {
      "cell_type": "markdown",
      "metadata": {
        "id": "KJ0hJeC3XPbP"
      },
      "source": [
        "### SVR prediction"
      ]
    },
    {
      "cell_type": "code",
      "execution_count": null,
      "metadata": {
        "colab": {
          "base_uri": "https://localhost:8080/",
          "height": 363
        },
        "id": "dyXbsj1sS3rF",
        "outputId": "f823258e-c8db-44a7-8a75-84357f27e7c8"
      },
      "outputs": [],
      "source": [
        "test_df_svr.head(10)"
      ]
    },
    {
      "cell_type": "markdown",
      "metadata": {
        "id": "F9ZE4NPCXSmO"
      },
      "source": [
        "### XGBoost prediction"
      ]
    },
    {
      "cell_type": "code",
      "execution_count": null,
      "metadata": {
        "colab": {
          "base_uri": "https://localhost:8080/",
          "height": 363
        },
        "id": "HuEICAOfS4bd",
        "outputId": "432c224b-1354-496d-e2d8-54ed11b92a60"
      },
      "outputs": [],
      "source": [
        "test_df_xgb.head(10)"
      ]
    },
    {
      "cell_type": "markdown",
      "metadata": {
        "id": "0cKiUiAnXXPB"
      },
      "source": [
        "### LightGBM prediction"
      ]
    },
    {
      "cell_type": "code",
      "execution_count": null,
      "metadata": {
        "colab": {
          "base_uri": "https://localhost:8080/",
          "height": 363
        },
        "id": "pirZUkNwS8JN",
        "outputId": "3ff7d382-496f-4b98-ea14-f9af00e2cefb"
      },
      "outputs": [],
      "source": [
        "test_df_lgb.head(10)"
      ]
    },
    {
      "cell_type": "markdown",
      "metadata": {
        "id": "IiBdEYKjXaLN"
      },
      "source": [
        "### Catboost prediction"
      ]
    },
    {
      "cell_type": "code",
      "execution_count": null,
      "metadata": {
        "colab": {
          "base_uri": "https://localhost:8080/",
          "height": 363
        },
        "id": "zdyiwBN9S9lx",
        "outputId": "710a4176-ebc6-49ba-816c-ed596208d892"
      },
      "outputs": [],
      "source": [
        "test_df_cat.head(10)"
      ]
    },
    {
      "cell_type": "markdown",
      "metadata": {
        "id": "KOb2yBngXd_p"
      },
      "source": [
        "### Random Forest prediction"
      ]
    },
    {
      "cell_type": "code",
      "execution_count": null,
      "metadata": {
        "colab": {
          "base_uri": "https://localhost:8080/",
          "height": 363
        },
        "id": "F2XOeMG-EmBv",
        "outputId": "2929cd34-cdb3-4cf7-f5f6-1427ca72783f"
      },
      "outputs": [],
      "source": [
        "test_df_rf.head(10)"
      ]
    }
  ],
  "metadata": {
    "accelerator": "GPU",
    "colab": {
      "gpuType": "T4",
      "provenance": []
    },
    "kernelspec": {
      "display_name": "Python 3",
      "name": "python3"
    },
    "language_info": {
      "name": "python"
    },
    "widgets": {
      "application/vnd.jupyter.widget-state+json": {
        "31bc8537628d4342809a8a3996235a7a": {
          "model_module": "@jupyter-widgets/controls",
          "model_module_version": "1.5.0",
          "model_name": "FloatProgressModel",
          "state": {
            "_dom_classes": [],
            "_model_module": "@jupyter-widgets/controls",
            "_model_module_version": "1.5.0",
            "_model_name": "FloatProgressModel",
            "_view_count": null,
            "_view_module": "@jupyter-widgets/controls",
            "_view_module_version": "1.5.0",
            "_view_name": "ProgressView",
            "bar_style": "success",
            "description": "",
            "description_tooltip": null,
            "layout": "IPY_MODEL_50943798b0424dbfb968f1bfc8a51704",
            "max": 125,
            "min": 0,
            "orientation": "horizontal",
            "style": "IPY_MODEL_997bc43304b748258bc87e97f5b299a6",
            "value": 125
          }
        },
        "384212bb0b6a404d9e3c6d1588761f49": {
          "model_module": "@jupyter-widgets/base",
          "model_module_version": "1.2.0",
          "model_name": "LayoutModel",
          "state": {
            "_model_module": "@jupyter-widgets/base",
            "_model_module_version": "1.2.0",
            "_model_name": "LayoutModel",
            "_view_count": null,
            "_view_module": "@jupyter-widgets/base",
            "_view_module_version": "1.2.0",
            "_view_name": "LayoutView",
            "align_content": null,
            "align_items": null,
            "align_self": null,
            "border": null,
            "bottom": null,
            "display": null,
            "flex": null,
            "flex_flow": null,
            "grid_area": null,
            "grid_auto_columns": null,
            "grid_auto_flow": null,
            "grid_auto_rows": null,
            "grid_column": null,
            "grid_gap": null,
            "grid_row": null,
            "grid_template_areas": null,
            "grid_template_columns": null,
            "grid_template_rows": null,
            "height": null,
            "justify_content": null,
            "justify_items": null,
            "left": null,
            "margin": null,
            "max_height": null,
            "max_width": null,
            "min_height": null,
            "min_width": null,
            "object_fit": null,
            "object_position": null,
            "order": null,
            "overflow": null,
            "overflow_x": null,
            "overflow_y": null,
            "padding": null,
            "right": null,
            "top": null,
            "visibility": null,
            "width": null
          }
        },
        "4210241dff154d02ac8c18c3214fc938": {
          "model_module": "@jupyter-widgets/controls",
          "model_module_version": "1.5.0",
          "model_name": "HBoxModel",
          "state": {
            "_dom_classes": [],
            "_model_module": "@jupyter-widgets/controls",
            "_model_module_version": "1.5.0",
            "_model_name": "HBoxModel",
            "_view_count": null,
            "_view_module": "@jupyter-widgets/controls",
            "_view_module_version": "1.5.0",
            "_view_name": "HBoxView",
            "box_style": "",
            "children": [
              "IPY_MODEL_612edf2522d944978c6118727d00d757",
              "IPY_MODEL_31bc8537628d4342809a8a3996235a7a",
              "IPY_MODEL_6f02894d66a44c81ae1f80a8cebede8f"
            ],
            "layout": "IPY_MODEL_8d74eb0328674313beec3911bf2c3a22"
          }
        },
        "4409146fca444ef48acd0637fce6b002": {
          "model_module": "@jupyter-widgets/controls",
          "model_module_version": "1.5.0",
          "model_name": "DescriptionStyleModel",
          "state": {
            "_model_module": "@jupyter-widgets/controls",
            "_model_module_version": "1.5.0",
            "_model_name": "DescriptionStyleModel",
            "_view_count": null,
            "_view_module": "@jupyter-widgets/base",
            "_view_module_version": "1.2.0",
            "_view_name": "StyleView",
            "description_width": ""
          }
        },
        "50943798b0424dbfb968f1bfc8a51704": {
          "model_module": "@jupyter-widgets/base",
          "model_module_version": "1.2.0",
          "model_name": "LayoutModel",
          "state": {
            "_model_module": "@jupyter-widgets/base",
            "_model_module_version": "1.2.0",
            "_model_name": "LayoutModel",
            "_view_count": null,
            "_view_module": "@jupyter-widgets/base",
            "_view_module_version": "1.2.0",
            "_view_name": "LayoutView",
            "align_content": null,
            "align_items": null,
            "align_self": null,
            "border": null,
            "bottom": null,
            "display": null,
            "flex": null,
            "flex_flow": null,
            "grid_area": null,
            "grid_auto_columns": null,
            "grid_auto_flow": null,
            "grid_auto_rows": null,
            "grid_column": null,
            "grid_gap": null,
            "grid_row": null,
            "grid_template_areas": null,
            "grid_template_columns": null,
            "grid_template_rows": null,
            "height": null,
            "justify_content": null,
            "justify_items": null,
            "left": null,
            "margin": null,
            "max_height": null,
            "max_width": null,
            "min_height": null,
            "min_width": null,
            "object_fit": null,
            "object_position": null,
            "order": null,
            "overflow": null,
            "overflow_x": null,
            "overflow_y": null,
            "padding": null,
            "right": null,
            "top": null,
            "visibility": null,
            "width": null
          }
        },
        "5147cf3008c14d7386d1bdea29a7a6de": {
          "model_module": "@jupyter-widgets/base",
          "model_module_version": "1.2.0",
          "model_name": "LayoutModel",
          "state": {
            "_model_module": "@jupyter-widgets/base",
            "_model_module_version": "1.2.0",
            "_model_name": "LayoutModel",
            "_view_count": null,
            "_view_module": "@jupyter-widgets/base",
            "_view_module_version": "1.2.0",
            "_view_name": "LayoutView",
            "align_content": null,
            "align_items": null,
            "align_self": null,
            "border": null,
            "bottom": null,
            "display": null,
            "flex": null,
            "flex_flow": null,
            "grid_area": null,
            "grid_auto_columns": null,
            "grid_auto_flow": null,
            "grid_auto_rows": null,
            "grid_column": null,
            "grid_gap": null,
            "grid_row": null,
            "grid_template_areas": null,
            "grid_template_columns": null,
            "grid_template_rows": null,
            "height": null,
            "justify_content": null,
            "justify_items": null,
            "left": null,
            "margin": null,
            "max_height": null,
            "max_width": null,
            "min_height": null,
            "min_width": null,
            "object_fit": null,
            "object_position": null,
            "order": null,
            "overflow": null,
            "overflow_x": null,
            "overflow_y": null,
            "padding": null,
            "right": null,
            "top": null,
            "visibility": null,
            "width": null
          }
        },
        "539f764b7f8848368b74a45d0699284c": {
          "model_module": "@jupyter-widgets/base",
          "model_module_version": "1.2.0",
          "model_name": "LayoutModel",
          "state": {
            "_model_module": "@jupyter-widgets/base",
            "_model_module_version": "1.2.0",
            "_model_name": "LayoutModel",
            "_view_count": null,
            "_view_module": "@jupyter-widgets/base",
            "_view_module_version": "1.2.0",
            "_view_name": "LayoutView",
            "align_content": null,
            "align_items": null,
            "align_self": null,
            "border": null,
            "bottom": null,
            "display": null,
            "flex": null,
            "flex_flow": null,
            "grid_area": null,
            "grid_auto_columns": null,
            "grid_auto_flow": null,
            "grid_auto_rows": null,
            "grid_column": null,
            "grid_gap": null,
            "grid_row": null,
            "grid_template_areas": null,
            "grid_template_columns": null,
            "grid_template_rows": null,
            "height": null,
            "justify_content": null,
            "justify_items": null,
            "left": null,
            "margin": null,
            "max_height": null,
            "max_width": null,
            "min_height": null,
            "min_width": null,
            "object_fit": null,
            "object_position": null,
            "order": null,
            "overflow": null,
            "overflow_x": null,
            "overflow_y": null,
            "padding": null,
            "right": null,
            "top": null,
            "visibility": null,
            "width": null
          }
        },
        "612edf2522d944978c6118727d00d757": {
          "model_module": "@jupyter-widgets/controls",
          "model_module_version": "1.5.0",
          "model_name": "HTMLModel",
          "state": {
            "_dom_classes": [],
            "_model_module": "@jupyter-widgets/controls",
            "_model_module_version": "1.5.0",
            "_model_name": "HTMLModel",
            "_view_count": null,
            "_view_module": "@jupyter-widgets/controls",
            "_view_module_version": "1.5.0",
            "_view_name": "HTMLView",
            "description": "",
            "description_tooltip": null,
            "layout": "IPY_MODEL_539f764b7f8848368b74a45d0699284c",
            "placeholder": "​",
            "style": "IPY_MODEL_f9419e4f353d40e9960ece9750fafd51",
            "value": "Batches: 100%"
          }
        },
        "626d2cba106543c18471724947e3eb0b": {
          "model_module": "@jupyter-widgets/controls",
          "model_module_version": "1.5.0",
          "model_name": "DescriptionStyleModel",
          "state": {
            "_model_module": "@jupyter-widgets/controls",
            "_model_module_version": "1.5.0",
            "_model_name": "DescriptionStyleModel",
            "_view_count": null,
            "_view_module": "@jupyter-widgets/base",
            "_view_module_version": "1.2.0",
            "_view_name": "StyleView",
            "description_width": ""
          }
        },
        "634bdc2264604a5086f2e3be9661642b": {
          "model_module": "@jupyter-widgets/base",
          "model_module_version": "1.2.0",
          "model_name": "LayoutModel",
          "state": {
            "_model_module": "@jupyter-widgets/base",
            "_model_module_version": "1.2.0",
            "_model_name": "LayoutModel",
            "_view_count": null,
            "_view_module": "@jupyter-widgets/base",
            "_view_module_version": "1.2.0",
            "_view_name": "LayoutView",
            "align_content": null,
            "align_items": null,
            "align_self": null,
            "border": null,
            "bottom": null,
            "display": null,
            "flex": null,
            "flex_flow": null,
            "grid_area": null,
            "grid_auto_columns": null,
            "grid_auto_flow": null,
            "grid_auto_rows": null,
            "grid_column": null,
            "grid_gap": null,
            "grid_row": null,
            "grid_template_areas": null,
            "grid_template_columns": null,
            "grid_template_rows": null,
            "height": null,
            "justify_content": null,
            "justify_items": null,
            "left": null,
            "margin": null,
            "max_height": null,
            "max_width": null,
            "min_height": null,
            "min_width": null,
            "object_fit": null,
            "object_position": null,
            "order": null,
            "overflow": null,
            "overflow_x": null,
            "overflow_y": null,
            "padding": null,
            "right": null,
            "top": null,
            "visibility": null,
            "width": null
          }
        },
        "6f02894d66a44c81ae1f80a8cebede8f": {
          "model_module": "@jupyter-widgets/controls",
          "model_module_version": "1.5.0",
          "model_name": "HTMLModel",
          "state": {
            "_dom_classes": [],
            "_model_module": "@jupyter-widgets/controls",
            "_model_module_version": "1.5.0",
            "_model_name": "HTMLModel",
            "_view_count": null,
            "_view_module": "@jupyter-widgets/controls",
            "_view_module_version": "1.5.0",
            "_view_name": "HTMLView",
            "description": "",
            "description_tooltip": null,
            "layout": "IPY_MODEL_384212bb0b6a404d9e3c6d1588761f49",
            "placeholder": "​",
            "style": "IPY_MODEL_bdc133385ad840f8960477124f4ad772",
            "value": " 125/125 [00:41&lt;00:00, 13.07it/s]"
          }
        },
        "81f050a42ddc4207a6e904a883eb8ed0": {
          "model_module": "@jupyter-widgets/controls",
          "model_module_version": "1.5.0",
          "model_name": "HTMLModel",
          "state": {
            "_dom_classes": [],
            "_model_module": "@jupyter-widgets/controls",
            "_model_module_version": "1.5.0",
            "_model_name": "HTMLModel",
            "_view_count": null,
            "_view_module": "@jupyter-widgets/controls",
            "_view_module_version": "1.5.0",
            "_view_name": "HTMLView",
            "description": "",
            "description_tooltip": null,
            "layout": "IPY_MODEL_5147cf3008c14d7386d1bdea29a7a6de",
            "placeholder": "​",
            "style": "IPY_MODEL_626d2cba106543c18471724947e3eb0b",
            "value": " 499/499 [02:32&lt;00:00, 18.80it/s]"
          }
        },
        "876c9db298ab4f738834636be5fa9dc1": {
          "model_module": "@jupyter-widgets/controls",
          "model_module_version": "1.5.0",
          "model_name": "ProgressStyleModel",
          "state": {
            "_model_module": "@jupyter-widgets/controls",
            "_model_module_version": "1.5.0",
            "_model_name": "ProgressStyleModel",
            "_view_count": null,
            "_view_module": "@jupyter-widgets/base",
            "_view_module_version": "1.2.0",
            "_view_name": "StyleView",
            "bar_color": null,
            "description_width": ""
          }
        },
        "8d74eb0328674313beec3911bf2c3a22": {
          "model_module": "@jupyter-widgets/base",
          "model_module_version": "1.2.0",
          "model_name": "LayoutModel",
          "state": {
            "_model_module": "@jupyter-widgets/base",
            "_model_module_version": "1.2.0",
            "_model_name": "LayoutModel",
            "_view_count": null,
            "_view_module": "@jupyter-widgets/base",
            "_view_module_version": "1.2.0",
            "_view_name": "LayoutView",
            "align_content": null,
            "align_items": null,
            "align_self": null,
            "border": null,
            "bottom": null,
            "display": null,
            "flex": null,
            "flex_flow": null,
            "grid_area": null,
            "grid_auto_columns": null,
            "grid_auto_flow": null,
            "grid_auto_rows": null,
            "grid_column": null,
            "grid_gap": null,
            "grid_row": null,
            "grid_template_areas": null,
            "grid_template_columns": null,
            "grid_template_rows": null,
            "height": null,
            "justify_content": null,
            "justify_items": null,
            "left": null,
            "margin": null,
            "max_height": null,
            "max_width": null,
            "min_height": null,
            "min_width": null,
            "object_fit": null,
            "object_position": null,
            "order": null,
            "overflow": null,
            "overflow_x": null,
            "overflow_y": null,
            "padding": null,
            "right": null,
            "top": null,
            "visibility": null,
            "width": null
          }
        },
        "997bc43304b748258bc87e97f5b299a6": {
          "model_module": "@jupyter-widgets/controls",
          "model_module_version": "1.5.0",
          "model_name": "ProgressStyleModel",
          "state": {
            "_model_module": "@jupyter-widgets/controls",
            "_model_module_version": "1.5.0",
            "_model_name": "ProgressStyleModel",
            "_view_count": null,
            "_view_module": "@jupyter-widgets/base",
            "_view_module_version": "1.2.0",
            "_view_name": "StyleView",
            "bar_color": null,
            "description_width": ""
          }
        },
        "ab155f72df1840789a9591a8660e0f7a": {
          "model_module": "@jupyter-widgets/controls",
          "model_module_version": "1.5.0",
          "model_name": "HBoxModel",
          "state": {
            "_dom_classes": [],
            "_model_module": "@jupyter-widgets/controls",
            "_model_module_version": "1.5.0",
            "_model_name": "HBoxModel",
            "_view_count": null,
            "_view_module": "@jupyter-widgets/controls",
            "_view_module_version": "1.5.0",
            "_view_name": "HBoxView",
            "box_style": "",
            "children": [
              "IPY_MODEL_b6b2176766794246a06e9d2f67a130e7",
              "IPY_MODEL_dd369425b6be4cd19b783b5bd3fb72b4",
              "IPY_MODEL_81f050a42ddc4207a6e904a883eb8ed0"
            ],
            "layout": "IPY_MODEL_c6d156a4396c4e0a8573537f4380f4e1"
          }
        },
        "b6b2176766794246a06e9d2f67a130e7": {
          "model_module": "@jupyter-widgets/controls",
          "model_module_version": "1.5.0",
          "model_name": "HTMLModel",
          "state": {
            "_dom_classes": [],
            "_model_module": "@jupyter-widgets/controls",
            "_model_module_version": "1.5.0",
            "_model_name": "HTMLModel",
            "_view_count": null,
            "_view_module": "@jupyter-widgets/controls",
            "_view_module_version": "1.5.0",
            "_view_name": "HTMLView",
            "description": "",
            "description_tooltip": null,
            "layout": "IPY_MODEL_f769bc1b98844bdda645964c5a47ca87",
            "placeholder": "​",
            "style": "IPY_MODEL_4409146fca444ef48acd0637fce6b002",
            "value": "Batches: 100%"
          }
        },
        "bdc133385ad840f8960477124f4ad772": {
          "model_module": "@jupyter-widgets/controls",
          "model_module_version": "1.5.0",
          "model_name": "DescriptionStyleModel",
          "state": {
            "_model_module": "@jupyter-widgets/controls",
            "_model_module_version": "1.5.0",
            "_model_name": "DescriptionStyleModel",
            "_view_count": null,
            "_view_module": "@jupyter-widgets/base",
            "_view_module_version": "1.2.0",
            "_view_name": "StyleView",
            "description_width": ""
          }
        },
        "c6d156a4396c4e0a8573537f4380f4e1": {
          "model_module": "@jupyter-widgets/base",
          "model_module_version": "1.2.0",
          "model_name": "LayoutModel",
          "state": {
            "_model_module": "@jupyter-widgets/base",
            "_model_module_version": "1.2.0",
            "_model_name": "LayoutModel",
            "_view_count": null,
            "_view_module": "@jupyter-widgets/base",
            "_view_module_version": "1.2.0",
            "_view_name": "LayoutView",
            "align_content": null,
            "align_items": null,
            "align_self": null,
            "border": null,
            "bottom": null,
            "display": null,
            "flex": null,
            "flex_flow": null,
            "grid_area": null,
            "grid_auto_columns": null,
            "grid_auto_flow": null,
            "grid_auto_rows": null,
            "grid_column": null,
            "grid_gap": null,
            "grid_row": null,
            "grid_template_areas": null,
            "grid_template_columns": null,
            "grid_template_rows": null,
            "height": null,
            "justify_content": null,
            "justify_items": null,
            "left": null,
            "margin": null,
            "max_height": null,
            "max_width": null,
            "min_height": null,
            "min_width": null,
            "object_fit": null,
            "object_position": null,
            "order": null,
            "overflow": null,
            "overflow_x": null,
            "overflow_y": null,
            "padding": null,
            "right": null,
            "top": null,
            "visibility": null,
            "width": null
          }
        },
        "dd369425b6be4cd19b783b5bd3fb72b4": {
          "model_module": "@jupyter-widgets/controls",
          "model_module_version": "1.5.0",
          "model_name": "FloatProgressModel",
          "state": {
            "_dom_classes": [],
            "_model_module": "@jupyter-widgets/controls",
            "_model_module_version": "1.5.0",
            "_model_name": "FloatProgressModel",
            "_view_count": null,
            "_view_module": "@jupyter-widgets/controls",
            "_view_module_version": "1.5.0",
            "_view_name": "ProgressView",
            "bar_style": "success",
            "description": "",
            "description_tooltip": null,
            "layout": "IPY_MODEL_634bdc2264604a5086f2e3be9661642b",
            "max": 499,
            "min": 0,
            "orientation": "horizontal",
            "style": "IPY_MODEL_876c9db298ab4f738834636be5fa9dc1",
            "value": 499
          }
        },
        "f769bc1b98844bdda645964c5a47ca87": {
          "model_module": "@jupyter-widgets/base",
          "model_module_version": "1.2.0",
          "model_name": "LayoutModel",
          "state": {
            "_model_module": "@jupyter-widgets/base",
            "_model_module_version": "1.2.0",
            "_model_name": "LayoutModel",
            "_view_count": null,
            "_view_module": "@jupyter-widgets/base",
            "_view_module_version": "1.2.0",
            "_view_name": "LayoutView",
            "align_content": null,
            "align_items": null,
            "align_self": null,
            "border": null,
            "bottom": null,
            "display": null,
            "flex": null,
            "flex_flow": null,
            "grid_area": null,
            "grid_auto_columns": null,
            "grid_auto_flow": null,
            "grid_auto_rows": null,
            "grid_column": null,
            "grid_gap": null,
            "grid_row": null,
            "grid_template_areas": null,
            "grid_template_columns": null,
            "grid_template_rows": null,
            "height": null,
            "justify_content": null,
            "justify_items": null,
            "left": null,
            "margin": null,
            "max_height": null,
            "max_width": null,
            "min_height": null,
            "min_width": null,
            "object_fit": null,
            "object_position": null,
            "order": null,
            "overflow": null,
            "overflow_x": null,
            "overflow_y": null,
            "padding": null,
            "right": null,
            "top": null,
            "visibility": null,
            "width": null
          }
        },
        "f9419e4f353d40e9960ece9750fafd51": {
          "model_module": "@jupyter-widgets/controls",
          "model_module_version": "1.5.0",
          "model_name": "DescriptionStyleModel",
          "state": {
            "_model_module": "@jupyter-widgets/controls",
            "_model_module_version": "1.5.0",
            "_model_name": "DescriptionStyleModel",
            "_view_count": null,
            "_view_module": "@jupyter-widgets/base",
            "_view_module_version": "1.2.0",
            "_view_name": "StyleView",
            "description_width": ""
          }
        }
      }
    }
  },
  "nbformat": 4,
  "nbformat_minor": 0
}
